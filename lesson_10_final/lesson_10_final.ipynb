{
 "cells": [
  {
   "cell_type": "markdown",
   "metadata": {
    "papermill": {
     "duration": 0.075665,
     "end_time": "2021-05-25T16:01:54.566745",
     "exception": false,
     "start_time": "2021-05-25T16:01:54.491080",
     "status": "completed"
    },
    "tags": []
   },
   "source": [
    "# Курсовой проект \"Прогнозирование цен на недвижимость\"\n",
    "\n",
    "### Задание для курсового проекта\n",
    "\n",
    "Данные:\n",
    "https://www.kaggle.com/c/real-estate-price-prediction-moscow/leaderboard\n",
    "\n",
    "Мой аккаунт:\n",
    "https://www.kaggle.com/alexartwww\n",
    "\n",
    "Метрика:\n",
    "R2 - коэффициент детерминации (sklearn.metrics.r2_score)\n",
    "\n",
    "Сдача проекта:\n",
    "1. Сдать проект нужно в течение 7 дней после окончания последнего вебинара.\n",
    "2. Прислать в раздел Задания Урока 10 (\"Вебинар. Консультация по итоговому проекту\") ссылку на ноутбук в github или public kaggle notebook.\n",
    "3. Необходимо получить R2 > 0.6 на Private Leaderboard.\n",
    "4. Укажите свой ник на kaggle \n",
    "\n",
    "\n",
    "Примечание:\n",
    "Все файлы csv должны содержать названия полей (header - то есть \"шапку\"),разделитель - запятая. В файлах не должны содержаться индексы из датафрейма.\n",
    "____________\n",
    "Рекомендации для файла с кодом (ipynb):\n",
    "1. Файл должен содержать заголовки и комментарии\n",
    "2. Повторяющиеся операции лучше оформлять в виде функций\n",
    "3. По возможности добавлять графики, описывающие данные (около 3-5)\n",
    "4. Добавлять только лучшую модель, то есть не включать в код все варианты решения проекта\n",
    "5. Скрипт проекта должен отрабатывать от начала и до конца (от загрузки данных до выгрузки предсказаний)\n",
    "6. Весь проект должен быть в одном скрипте (файл ipynb).\n",
    "7. При использовании статистик (среднее, медиана и т.д.) в качестве признаков, лучше считать их на трейне, и потом на валидационных и тестовых данных не считать статистики заново, а брать их с трейна.\n",
    "8. Проект должен полностью отрабатывать за разумное время (не больше 10 минут), поэтому в финальный вариант лучше не включать GridSearch с перебором большого количества сочетаний параметров. "
   ]
  },
  {
   "cell_type": "markdown",
   "metadata": {
    "papermill": {
     "duration": 0.074313,
     "end_time": "2021-05-25T16:01:54.715155",
     "exception": false,
     "start_time": "2021-05-25T16:01:54.640842",
     "status": "completed"
    },
    "tags": []
   },
   "source": [
    "**План занятия**\n",
    "* [Загрузка данных](#load)\n",
    "* [1. EDA](#eda)\n",
    "* [2. Обработка выбросов](#outlier)\n",
    "* [3. Обработка пропусков](#nan)\n",
    "* [4. Построение новых признаков](#feature)\n",
    "* [5. Отбор признаков](#feature_selection)\n",
    "* [6. Разбиение на train и test](#split)\n",
    "* [7. Построение модели](#modeling)\n",
    "* [8. Прогнозирование на тестовом датасете](#prediction)"
   ]
  },
  {
   "cell_type": "markdown",
   "metadata": {
    "papermill": {
     "duration": 0.073292,
     "end_time": "2021-05-25T16:01:54.861816",
     "exception": false,
     "start_time": "2021-05-25T16:01:54.788524",
     "status": "completed"
    },
    "tags": []
   },
   "source": [
    "**Подключение библиотек и скриптов**"
   ]
  },
  {
   "cell_type": "code",
   "execution_count": 807,
   "metadata": {
    "execution": {
     "iopub.execute_input": "2021-05-25T16:01:55.015718Z",
     "iopub.status.busy": "2021-05-25T16:01:55.014761Z",
     "iopub.status.idle": "2021-05-25T16:01:55.020429Z",
     "shell.execute_reply": "2021-05-25T16:01:55.019611Z",
     "shell.execute_reply.started": "2021-05-25T15:46:34.304840Z"
    },
    "papermill": {
     "duration": 0.086127,
     "end_time": "2021-05-25T16:01:55.020590",
     "exception": false,
     "start_time": "2021-05-25T16:01:54.934463",
     "status": "completed"
    },
    "tags": []
   },
   "outputs": [
    {
     "name": "stdout",
     "output_type": "stream",
     "text": [
      "./input/real-estate-price-prediction-moscow/sample_submission.csv\n",
      "./input/real-estate-price-prediction-moscow/train.csv\n",
      "./input/real-estate-price-prediction-moscow/test.csv\n",
      "./input/real-estate-price-prediction-moscow/.~lock.train.csv#\n"
     ]
    }
   ],
   "source": [
    "# This Python 3 environment comes with many helpful analytics libraries installed\n",
    "# It is defined by the kaggle/python Docker image: https://github.com/kaggle/docker-python\n",
    "# For example, here's several helpful packages to load\n",
    "\n",
    "import numpy as np # linear algebra\n",
    "import pandas as pd # data processing, CSV file I/O (e.g. pd.read_csv)\n",
    "\n",
    "# Input data files are available in the read-only \"../input/\" directory\n",
    "# For example, running this (by clicking run or pressing Shift+Enter) will list all files under the input directory\n",
    "\n",
    "import os\n",
    "for dirname, _, filenames in os.walk('./input'):\n",
    "    for filename in filenames:\n",
    "        print(os.path.join(dirname, filename))\n",
    "\n",
    "# You can write up to 5GB to the current directory (/kaggle/working/) that gets preserved as output when you create a version using \"Save & Run All\" \n",
    "# You can also write temporary files to /kaggle/temp/, but they won't be saved outside of the current session"
   ]
  },
  {
   "cell_type": "code",
   "execution_count": 808,
   "metadata": {
    "execution": {
     "iopub.execute_input": "2021-05-25T16:01:55.180667Z",
     "iopub.status.busy": "2021-05-25T16:01:55.179786Z",
     "iopub.status.idle": "2021-05-25T16:01:56.565473Z",
     "shell.execute_reply": "2021-05-25T16:01:56.566048Z",
     "shell.execute_reply.started": "2021-05-25T15:46:34.313359Z"
    },
    "papermill": {
     "duration": 1.470531,
     "end_time": "2021-05-25T16:01:56.566253",
     "exception": false,
     "start_time": "2021-05-25T16:01:55.095722",
     "status": "completed"
    },
    "tags": []
   },
   "outputs": [],
   "source": [
    "import numpy as np\n",
    "import pandas as pd\n",
    "import random\n",
    "\n",
    "from sklearn.model_selection import train_test_split, cross_val_score\n",
    "from sklearn.preprocessing import StandardScaler, RobustScaler\n",
    "from sklearn.ensemble import RandomForestRegressor\n",
    "from sklearn.linear_model import LinearRegression\n",
    "from sklearn.metrics import r2_score as r2\n",
    "from sklearn.model_selection import KFold, GridSearchCV\n",
    "\n",
    "from datetime import datetime\n",
    "\n",
    "import matplotlib\n",
    "import matplotlib.pyplot as plt\n",
    "import seaborn as sns\n",
    "%matplotlib inline"
   ]
  },
  {
   "cell_type": "code",
   "execution_count": 809,
   "metadata": {
    "execution": {
     "iopub.execute_input": "2021-05-25T16:01:56.720746Z",
     "iopub.status.busy": "2021-05-25T16:01:56.719674Z",
     "iopub.status.idle": "2021-05-25T16:01:56.723706Z",
     "shell.execute_reply": "2021-05-25T16:01:56.724274Z",
     "shell.execute_reply.started": "2021-05-25T15:46:35.840084Z"
    },
    "papermill": {
     "duration": 0.083036,
     "end_time": "2021-05-25T16:01:56.724445",
     "exception": false,
     "start_time": "2021-05-25T16:01:56.641409",
     "status": "completed"
    },
    "tags": []
   },
   "outputs": [],
   "source": [
    "import warnings\n",
    "warnings.filterwarnings('ignore')"
   ]
  },
  {
   "cell_type": "code",
   "execution_count": 810,
   "metadata": {
    "execution": {
     "iopub.execute_input": "2021-05-25T16:01:56.875926Z",
     "iopub.status.busy": "2021-05-25T16:01:56.874773Z",
     "iopub.status.idle": "2021-05-25T16:01:56.879190Z",
     "shell.execute_reply": "2021-05-25T16:01:56.879705Z",
     "shell.execute_reply.started": "2021-05-25T15:46:35.850002Z"
    },
    "papermill": {
     "duration": 0.081824,
     "end_time": "2021-05-25T16:01:56.879862",
     "exception": false,
     "start_time": "2021-05-25T16:01:56.798038",
     "status": "completed"
    },
    "tags": []
   },
   "outputs": [],
   "source": [
    "matplotlib.rcParams.update({'font.size': 14})"
   ]
  },
  {
   "cell_type": "code",
   "execution_count": 868,
   "metadata": {
    "execution": {
     "iopub.execute_input": "2021-05-25T16:01:57.030776Z",
     "iopub.status.busy": "2021-05-25T16:01:57.029720Z",
     "iopub.status.idle": "2021-05-25T16:01:57.040939Z",
     "shell.execute_reply": "2021-05-25T16:01:57.040360Z",
     "shell.execute_reply.started": "2021-05-25T15:46:35.865546Z"
    },
    "papermill": {
     "duration": 0.087878,
     "end_time": "2021-05-25T16:01:57.041068",
     "exception": false,
     "start_time": "2021-05-25T16:01:56.953190",
     "status": "completed"
    },
    "tags": []
   },
   "outputs": [],
   "source": [
    "def evaluate_preds(train_true_values, train_pred_values, test_true_values, test_pred_values):\n",
    "    print(\"Train R2:\\t\" + str(round(r2(train_true_values, train_pred_values), 5)))\n",
    "    print(\"Test R2:\\t\" + str(round(r2(test_true_values, test_pred_values), 5)))\n",
    "    \n",
    "    plt.figure(figsize=(18,10))\n",
    "    \n",
    "    plt.subplot(121)\n",
    "    sns.scatterplot(x=train_pred_values, y=train_true_values)\n",
    "    plt.xlabel('Predicted values')\n",
    "    plt.ylabel('True values')\n",
    "    plt.title('Train sample prediction')\n",
    "    \n",
    "    plt.subplot(122)\n",
    "    sns.scatterplot(x=test_pred_values, y=test_true_values)\n",
    "    plt.xlabel('Predicted values')\n",
    "    plt.ylabel('True values')\n",
    "    plt.title('Test sample prediction')\n",
    "\n",
    "    plt.show()"
   ]
  },
  {
   "cell_type": "markdown",
   "metadata": {
    "papermill": {
     "duration": 0.073245,
     "end_time": "2021-05-25T16:01:57.190473",
     "exception": false,
     "start_time": "2021-05-25T16:01:57.117228",
     "status": "completed"
    },
    "tags": []
   },
   "source": [
    "**Пути к директориям и файлам**"
   ]
  },
  {
   "cell_type": "code",
   "execution_count": 812,
   "metadata": {
    "execution": {
     "iopub.execute_input": "2021-05-25T16:01:57.343275Z",
     "iopub.status.busy": "2021-05-25T16:01:57.342285Z",
     "iopub.status.idle": "2021-05-25T16:01:57.345101Z",
     "shell.execute_reply": "2021-05-25T16:01:57.344568Z",
     "shell.execute_reply.started": "2021-05-25T15:46:35.883309Z"
    },
    "papermill": {
     "duration": 0.081167,
     "end_time": "2021-05-25T16:01:57.345224",
     "exception": false,
     "start_time": "2021-05-25T16:01:57.264057",
     "status": "completed"
    },
    "tags": []
   },
   "outputs": [],
   "source": [
    "TRAIN_DATASET_PATH = './input/real-estate-price-prediction-moscow/train.csv'\n",
    "TEST_DATASET_PATH = './input/real-estate-price-prediction-moscow/test.csv'"
   ]
  },
  {
   "cell_type": "markdown",
   "metadata": {
    "papermill": {
     "duration": 0.07388,
     "end_time": "2021-05-25T16:01:57.493820",
     "exception": false,
     "start_time": "2021-05-25T16:01:57.419940",
     "status": "completed"
    },
    "tags": []
   },
   "source": [
    "### Загрузка данных <a class='anchor' id='load'>"
   ]
  },
  {
   "cell_type": "markdown",
   "metadata": {
    "papermill": {
     "duration": 0.073527,
     "end_time": "2021-05-25T16:01:57.641077",
     "exception": false,
     "start_time": "2021-05-25T16:01:57.567550",
     "status": "completed"
    },
    "tags": []
   },
   "source": [
    "**Описание датасета**\n",
    "\n",
    "* **Id** - идентификационный номер квартиры\n",
    "* **DistrictId** - идентификационный номер района\n",
    "* **Rooms** - количество комнат\n",
    "* **Square** - площадь\n",
    "* **LifeSquare** - жилая площадь\n",
    "* **KitchenSquare** - площадь кухни\n",
    "* **Floor** - этаж\n",
    "* **HouseFloor** - количество этажей в доме\n",
    "* **HouseYear** - год постройки дома\n",
    "* **Ecology_1, Ecology_2, Ecology_3** - экологические показатели местности\n",
    "* **Social_1, Social_2, Social_3** - социальные показатели местности\n",
    "* **Healthcare_1, Helthcare_2** - показатели местности, связанные с охраной здоровья\n",
    "* **Shops_1, Shops_2** - показатели, связанные с наличием магазинов, торговых центров\n",
    "* **Price** - цена квартиры"
   ]
  },
  {
   "cell_type": "code",
   "execution_count": 813,
   "metadata": {
    "execution": {
     "iopub.execute_input": "2021-05-25T16:01:57.799912Z",
     "iopub.status.busy": "2021-05-25T16:01:57.799205Z",
     "iopub.status.idle": "2021-05-25T16:01:57.881915Z",
     "shell.execute_reply": "2021-05-25T16:01:57.880757Z",
     "shell.execute_reply.started": "2021-05-25T15:46:35.908733Z"
    },
    "papermill": {
     "duration": 0.163996,
     "end_time": "2021-05-25T16:01:57.882058",
     "exception": false,
     "start_time": "2021-05-25T16:01:57.718062",
     "status": "completed"
    },
    "tags": []
   },
   "outputs": [
    {
     "data": {
      "text/html": [
       "<div>\n",
       "<style scoped>\n",
       "    .dataframe tbody tr th:only-of-type {\n",
       "        vertical-align: middle;\n",
       "    }\n",
       "\n",
       "    .dataframe tbody tr th {\n",
       "        vertical-align: top;\n",
       "    }\n",
       "\n",
       "    .dataframe thead th {\n",
       "        text-align: right;\n",
       "    }\n",
       "</style>\n",
       "<table border=\"1\" class=\"dataframe\">\n",
       "  <thead>\n",
       "    <tr style=\"text-align: right;\">\n",
       "      <th></th>\n",
       "      <th>Id</th>\n",
       "      <th>DistrictId</th>\n",
       "      <th>Rooms</th>\n",
       "      <th>Square</th>\n",
       "      <th>LifeSquare</th>\n",
       "      <th>KitchenSquare</th>\n",
       "      <th>Floor</th>\n",
       "      <th>HouseFloor</th>\n",
       "      <th>HouseYear</th>\n",
       "      <th>Ecology_1</th>\n",
       "      <th>Ecology_2</th>\n",
       "      <th>Ecology_3</th>\n",
       "      <th>Social_1</th>\n",
       "      <th>Social_2</th>\n",
       "      <th>Social_3</th>\n",
       "      <th>Healthcare_1</th>\n",
       "      <th>Helthcare_2</th>\n",
       "      <th>Shops_1</th>\n",
       "      <th>Shops_2</th>\n",
       "      <th>Price</th>\n",
       "    </tr>\n",
       "  </thead>\n",
       "  <tbody>\n",
       "    <tr>\n",
       "      <th>9995</th>\n",
       "      <td>1260</td>\n",
       "      <td>61</td>\n",
       "      <td>2.0</td>\n",
       "      <td>49.090728</td>\n",
       "      <td>33.272626</td>\n",
       "      <td>6.0</td>\n",
       "      <td>3</td>\n",
       "      <td>12.0</td>\n",
       "      <td>1981</td>\n",
       "      <td>0.300323</td>\n",
       "      <td>B</td>\n",
       "      <td>B</td>\n",
       "      <td>52</td>\n",
       "      <td>10311</td>\n",
       "      <td>6</td>\n",
       "      <td>NaN</td>\n",
       "      <td>1</td>\n",
       "      <td>9</td>\n",
       "      <td>B</td>\n",
       "      <td>119367.455796</td>\n",
       "    </tr>\n",
       "    <tr>\n",
       "      <th>9996</th>\n",
       "      <td>16265</td>\n",
       "      <td>27</td>\n",
       "      <td>2.0</td>\n",
       "      <td>64.307684</td>\n",
       "      <td>37.038420</td>\n",
       "      <td>9.0</td>\n",
       "      <td>13</td>\n",
       "      <td>0.0</td>\n",
       "      <td>1977</td>\n",
       "      <td>0.072158</td>\n",
       "      <td>B</td>\n",
       "      <td>B</td>\n",
       "      <td>2</td>\n",
       "      <td>629</td>\n",
       "      <td>1</td>\n",
       "      <td>NaN</td>\n",
       "      <td>0</td>\n",
       "      <td>0</td>\n",
       "      <td>A</td>\n",
       "      <td>199715.148807</td>\n",
       "    </tr>\n",
       "    <tr>\n",
       "      <th>9997</th>\n",
       "      <td>2795</td>\n",
       "      <td>178</td>\n",
       "      <td>1.0</td>\n",
       "      <td>29.648057</td>\n",
       "      <td>16.555363</td>\n",
       "      <td>5.0</td>\n",
       "      <td>3</td>\n",
       "      <td>5.0</td>\n",
       "      <td>1958</td>\n",
       "      <td>0.460556</td>\n",
       "      <td>B</td>\n",
       "      <td>B</td>\n",
       "      <td>20</td>\n",
       "      <td>4386</td>\n",
       "      <td>14</td>\n",
       "      <td>NaN</td>\n",
       "      <td>1</td>\n",
       "      <td>5</td>\n",
       "      <td>B</td>\n",
       "      <td>165953.912580</td>\n",
       "    </tr>\n",
       "    <tr>\n",
       "      <th>9998</th>\n",
       "      <td>14561</td>\n",
       "      <td>21</td>\n",
       "      <td>1.0</td>\n",
       "      <td>32.330292</td>\n",
       "      <td>22.326870</td>\n",
       "      <td>5.0</td>\n",
       "      <td>3</td>\n",
       "      <td>9.0</td>\n",
       "      <td>1969</td>\n",
       "      <td>0.194489</td>\n",
       "      <td>B</td>\n",
       "      <td>B</td>\n",
       "      <td>47</td>\n",
       "      <td>8004</td>\n",
       "      <td>3</td>\n",
       "      <td>125.0</td>\n",
       "      <td>3</td>\n",
       "      <td>5</td>\n",
       "      <td>B</td>\n",
       "      <td>171842.411855</td>\n",
       "    </tr>\n",
       "    <tr>\n",
       "      <th>9999</th>\n",
       "      <td>7202</td>\n",
       "      <td>94</td>\n",
       "      <td>1.0</td>\n",
       "      <td>35.815476</td>\n",
       "      <td>22.301367</td>\n",
       "      <td>6.0</td>\n",
       "      <td>9</td>\n",
       "      <td>9.0</td>\n",
       "      <td>1975</td>\n",
       "      <td>0.127376</td>\n",
       "      <td>B</td>\n",
       "      <td>B</td>\n",
       "      <td>43</td>\n",
       "      <td>8429</td>\n",
       "      <td>3</td>\n",
       "      <td>NaN</td>\n",
       "      <td>3</td>\n",
       "      <td>9</td>\n",
       "      <td>B</td>\n",
       "      <td>177685.627486</td>\n",
       "    </tr>\n",
       "  </tbody>\n",
       "</table>\n",
       "</div>"
      ],
      "text/plain": [
       "         Id  DistrictId  Rooms     Square  LifeSquare  KitchenSquare  Floor  \\\n",
       "9995   1260          61    2.0  49.090728   33.272626            6.0      3   \n",
       "9996  16265          27    2.0  64.307684   37.038420            9.0     13   \n",
       "9997   2795         178    1.0  29.648057   16.555363            5.0      3   \n",
       "9998  14561          21    1.0  32.330292   22.326870            5.0      3   \n",
       "9999   7202          94    1.0  35.815476   22.301367            6.0      9   \n",
       "\n",
       "      HouseFloor  HouseYear  Ecology_1 Ecology_2 Ecology_3  Social_1  \\\n",
       "9995        12.0       1981   0.300323         B         B        52   \n",
       "9996         0.0       1977   0.072158         B         B         2   \n",
       "9997         5.0       1958   0.460556         B         B        20   \n",
       "9998         9.0       1969   0.194489         B         B        47   \n",
       "9999         9.0       1975   0.127376         B         B        43   \n",
       "\n",
       "      Social_2  Social_3  Healthcare_1  Helthcare_2  Shops_1 Shops_2  \\\n",
       "9995     10311         6           NaN            1        9       B   \n",
       "9996       629         1           NaN            0        0       A   \n",
       "9997      4386        14           NaN            1        5       B   \n",
       "9998      8004         3         125.0            3        5       B   \n",
       "9999      8429         3           NaN            3        9       B   \n",
       "\n",
       "              Price  \n",
       "9995  119367.455796  \n",
       "9996  199715.148807  \n",
       "9997  165953.912580  \n",
       "9998  171842.411855  \n",
       "9999  177685.627486  "
      ]
     },
     "execution_count": 813,
     "metadata": {},
     "output_type": "execute_result"
    }
   ],
   "source": [
    "train_df = pd.read_csv(TRAIN_DATASET_PATH)\n",
    "train_df.tail()"
   ]
  },
  {
   "cell_type": "code",
   "execution_count": 814,
   "metadata": {
    "execution": {
     "iopub.execute_input": "2021-05-25T16:01:58.040136Z",
     "iopub.status.busy": "2021-05-25T16:01:58.039370Z",
     "iopub.status.idle": "2021-05-25T16:01:58.042076Z",
     "shell.execute_reply": "2021-05-25T16:01:58.042671Z",
     "shell.execute_reply.started": "2021-05-25T15:46:35.993842Z"
    },
    "papermill": {
     "duration": 0.085862,
     "end_time": "2021-05-25T16:01:58.042837",
     "exception": false,
     "start_time": "2021-05-25T16:01:57.956975",
     "status": "completed"
    },
    "tags": []
   },
   "outputs": [
    {
     "data": {
      "text/plain": [
       "Id                 int64\n",
       "DistrictId         int64\n",
       "Rooms            float64\n",
       "Square           float64\n",
       "LifeSquare       float64\n",
       "KitchenSquare    float64\n",
       "Floor              int64\n",
       "HouseFloor       float64\n",
       "HouseYear          int64\n",
       "Ecology_1        float64\n",
       "Ecology_2         object\n",
       "Ecology_3         object\n",
       "Social_1           int64\n",
       "Social_2           int64\n",
       "Social_3           int64\n",
       "Healthcare_1     float64\n",
       "Helthcare_2        int64\n",
       "Shops_1            int64\n",
       "Shops_2           object\n",
       "Price            float64\n",
       "dtype: object"
      ]
     },
     "execution_count": 814,
     "metadata": {},
     "output_type": "execute_result"
    }
   ],
   "source": [
    "train_df.dtypes"
   ]
  },
  {
   "cell_type": "code",
   "execution_count": 815,
   "metadata": {
    "execution": {
     "iopub.execute_input": "2021-05-25T16:01:58.200237Z",
     "iopub.status.busy": "2021-05-25T16:01:58.199518Z",
     "iopub.status.idle": "2021-05-25T16:01:58.245807Z",
     "shell.execute_reply": "2021-05-25T16:01:58.246480Z",
     "shell.execute_reply.started": "2021-05-25T15:46:36.003438Z"
    },
    "papermill": {
     "duration": 0.125335,
     "end_time": "2021-05-25T16:01:58.246656",
     "exception": false,
     "start_time": "2021-05-25T16:01:58.121321",
     "status": "completed"
    },
    "tags": []
   },
   "outputs": [
    {
     "data": {
      "text/html": [
       "<div>\n",
       "<style scoped>\n",
       "    .dataframe tbody tr th:only-of-type {\n",
       "        vertical-align: middle;\n",
       "    }\n",
       "\n",
       "    .dataframe tbody tr th {\n",
       "        vertical-align: top;\n",
       "    }\n",
       "\n",
       "    .dataframe thead th {\n",
       "        text-align: right;\n",
       "    }\n",
       "</style>\n",
       "<table border=\"1\" class=\"dataframe\">\n",
       "  <thead>\n",
       "    <tr style=\"text-align: right;\">\n",
       "      <th></th>\n",
       "      <th>Id</th>\n",
       "      <th>DistrictId</th>\n",
       "      <th>Rooms</th>\n",
       "      <th>Square</th>\n",
       "      <th>LifeSquare</th>\n",
       "      <th>KitchenSquare</th>\n",
       "      <th>Floor</th>\n",
       "      <th>HouseFloor</th>\n",
       "      <th>HouseYear</th>\n",
       "      <th>Ecology_1</th>\n",
       "      <th>Ecology_2</th>\n",
       "      <th>Ecology_3</th>\n",
       "      <th>Social_1</th>\n",
       "      <th>Social_2</th>\n",
       "      <th>Social_3</th>\n",
       "      <th>Healthcare_1</th>\n",
       "      <th>Helthcare_2</th>\n",
       "      <th>Shops_1</th>\n",
       "      <th>Shops_2</th>\n",
       "    </tr>\n",
       "  </thead>\n",
       "  <tbody>\n",
       "    <tr>\n",
       "      <th>4995</th>\n",
       "      <td>10379</td>\n",
       "      <td>29</td>\n",
       "      <td>2.0</td>\n",
       "      <td>43.177521</td>\n",
       "      <td>30.339945</td>\n",
       "      <td>5.0</td>\n",
       "      <td>6</td>\n",
       "      <td>5.0</td>\n",
       "      <td>1962</td>\n",
       "      <td>0.069660</td>\n",
       "      <td>B</td>\n",
       "      <td>B</td>\n",
       "      <td>31</td>\n",
       "      <td>6119</td>\n",
       "      <td>4</td>\n",
       "      <td>NaN</td>\n",
       "      <td>1</td>\n",
       "      <td>2</td>\n",
       "      <td>B</td>\n",
       "    </tr>\n",
       "    <tr>\n",
       "      <th>4996</th>\n",
       "      <td>16138</td>\n",
       "      <td>38</td>\n",
       "      <td>3.0</td>\n",
       "      <td>93.698122</td>\n",
       "      <td>94.521465</td>\n",
       "      <td>10.0</td>\n",
       "      <td>21</td>\n",
       "      <td>27.0</td>\n",
       "      <td>2018</td>\n",
       "      <td>0.060753</td>\n",
       "      <td>B</td>\n",
       "      <td>B</td>\n",
       "      <td>15</td>\n",
       "      <td>2787</td>\n",
       "      <td>2</td>\n",
       "      <td>520.0</td>\n",
       "      <td>0</td>\n",
       "      <td>7</td>\n",
       "      <td>B</td>\n",
       "    </tr>\n",
       "    <tr>\n",
       "      <th>4997</th>\n",
       "      <td>3912</td>\n",
       "      <td>101</td>\n",
       "      <td>1.0</td>\n",
       "      <td>33.656723</td>\n",
       "      <td>19.003259</td>\n",
       "      <td>5.0</td>\n",
       "      <td>2</td>\n",
       "      <td>5.0</td>\n",
       "      <td>1966</td>\n",
       "      <td>0.038693</td>\n",
       "      <td>B</td>\n",
       "      <td>B</td>\n",
       "      <td>28</td>\n",
       "      <td>6533</td>\n",
       "      <td>1</td>\n",
       "      <td>1015.0</td>\n",
       "      <td>2</td>\n",
       "      <td>5</td>\n",
       "      <td>B</td>\n",
       "    </tr>\n",
       "    <tr>\n",
       "      <th>4998</th>\n",
       "      <td>5722</td>\n",
       "      <td>10</td>\n",
       "      <td>1.0</td>\n",
       "      <td>38.635155</td>\n",
       "      <td>20.976257</td>\n",
       "      <td>9.0</td>\n",
       "      <td>8</td>\n",
       "      <td>14.0</td>\n",
       "      <td>1970</td>\n",
       "      <td>0.089040</td>\n",
       "      <td>B</td>\n",
       "      <td>B</td>\n",
       "      <td>33</td>\n",
       "      <td>7976</td>\n",
       "      <td>5</td>\n",
       "      <td>NaN</td>\n",
       "      <td>0</td>\n",
       "      <td>11</td>\n",
       "      <td>B</td>\n",
       "    </tr>\n",
       "    <tr>\n",
       "      <th>4999</th>\n",
       "      <td>11004</td>\n",
       "      <td>21</td>\n",
       "      <td>2.0</td>\n",
       "      <td>67.122742</td>\n",
       "      <td>33.944344</td>\n",
       "      <td>13.0</td>\n",
       "      <td>9</td>\n",
       "      <td>17.0</td>\n",
       "      <td>2009</td>\n",
       "      <td>0.194489</td>\n",
       "      <td>B</td>\n",
       "      <td>B</td>\n",
       "      <td>47</td>\n",
       "      <td>8004</td>\n",
       "      <td>3</td>\n",
       "      <td>125.0</td>\n",
       "      <td>3</td>\n",
       "      <td>5</td>\n",
       "      <td>B</td>\n",
       "    </tr>\n",
       "  </tbody>\n",
       "</table>\n",
       "</div>"
      ],
      "text/plain": [
       "         Id  DistrictId  Rooms     Square  LifeSquare  KitchenSquare  Floor  \\\n",
       "4995  10379          29    2.0  43.177521   30.339945            5.0      6   \n",
       "4996  16138          38    3.0  93.698122   94.521465           10.0     21   \n",
       "4997   3912         101    1.0  33.656723   19.003259            5.0      2   \n",
       "4998   5722          10    1.0  38.635155   20.976257            9.0      8   \n",
       "4999  11004          21    2.0  67.122742   33.944344           13.0      9   \n",
       "\n",
       "      HouseFloor  HouseYear  Ecology_1 Ecology_2 Ecology_3  Social_1  \\\n",
       "4995         5.0       1962   0.069660         B         B        31   \n",
       "4996        27.0       2018   0.060753         B         B        15   \n",
       "4997         5.0       1966   0.038693         B         B        28   \n",
       "4998        14.0       1970   0.089040         B         B        33   \n",
       "4999        17.0       2009   0.194489         B         B        47   \n",
       "\n",
       "      Social_2  Social_3  Healthcare_1  Helthcare_2  Shops_1 Shops_2  \n",
       "4995      6119         4           NaN            1        2       B  \n",
       "4996      2787         2         520.0            0        7       B  \n",
       "4997      6533         1        1015.0            2        5       B  \n",
       "4998      7976         5           NaN            0       11       B  \n",
       "4999      8004         3         125.0            3        5       B  "
      ]
     },
     "execution_count": 815,
     "metadata": {},
     "output_type": "execute_result"
    }
   ],
   "source": [
    "test_df = pd.read_csv(TEST_DATASET_PATH)\n",
    "test_df.tail()"
   ]
  },
  {
   "cell_type": "code",
   "execution_count": 816,
   "metadata": {
    "execution": {
     "iopub.execute_input": "2021-05-25T16:01:58.401299Z",
     "iopub.status.busy": "2021-05-25T16:01:58.400578Z",
     "iopub.status.idle": "2021-05-25T16:01:58.408489Z",
     "shell.execute_reply": "2021-05-25T16:01:58.407547Z",
     "shell.execute_reply.started": "2021-05-25T15:46:36.054503Z"
    },
    "papermill": {
     "duration": 0.086237,
     "end_time": "2021-05-25T16:01:58.408662",
     "exception": false,
     "start_time": "2021-05-25T16:01:58.322425",
     "status": "completed"
    },
    "tags": []
   },
   "outputs": [
    {
     "name": "stdout",
     "output_type": "stream",
     "text": [
      "Строк в трейне: 10000\n",
      "Строк в тесте 5000\n"
     ]
    }
   ],
   "source": [
    "print('Строк в трейне:', train_df.shape[0])\n",
    "print('Строк в тесте', test_df.shape[0])"
   ]
  },
  {
   "cell_type": "code",
   "execution_count": 817,
   "metadata": {
    "execution": {
     "iopub.execute_input": "2021-05-25T16:01:58.569766Z",
     "iopub.status.busy": "2021-05-25T16:01:58.568783Z",
     "iopub.status.idle": "2021-05-25T16:01:58.573114Z",
     "shell.execute_reply": "2021-05-25T16:01:58.572493Z",
     "shell.execute_reply.started": "2021-05-25T15:46:36.061762Z"
    },
    "papermill": {
     "duration": 0.086838,
     "end_time": "2021-05-25T16:01:58.573238",
     "exception": false,
     "start_time": "2021-05-25T16:01:58.486400",
     "status": "completed"
    },
    "tags": []
   },
   "outputs": [
    {
     "data": {
      "text/plain": [
       "True"
      ]
     },
     "execution_count": 817,
     "metadata": {},
     "output_type": "execute_result"
    }
   ],
   "source": [
    "train_df.shape[1] - 1 == test_df.shape[1]"
   ]
  },
  {
   "cell_type": "markdown",
   "metadata": {
    "papermill": {
     "duration": 0.077611,
     "end_time": "2021-05-25T16:01:58.727828",
     "exception": false,
     "start_time": "2021-05-25T16:01:58.650217",
     "status": "completed"
    },
    "tags": []
   },
   "source": [
    "### Приведение типов"
   ]
  },
  {
   "cell_type": "code",
   "execution_count": 818,
   "metadata": {
    "execution": {
     "iopub.execute_input": "2021-05-25T16:01:58.889194Z",
     "iopub.status.busy": "2021-05-25T16:01:58.888263Z",
     "iopub.status.idle": "2021-05-25T16:01:58.892810Z",
     "shell.execute_reply": "2021-05-25T16:01:58.892272Z",
     "shell.execute_reply.started": "2021-05-25T15:46:36.077403Z"
    },
    "papermill": {
     "duration": 0.088775,
     "end_time": "2021-05-25T16:01:58.892958",
     "exception": false,
     "start_time": "2021-05-25T16:01:58.804183",
     "status": "completed"
    },
    "tags": []
   },
   "outputs": [
    {
     "data": {
      "text/plain": [
       "Id                 int64\n",
       "DistrictId         int64\n",
       "Rooms            float64\n",
       "Square           float64\n",
       "LifeSquare       float64\n",
       "KitchenSquare    float64\n",
       "Floor              int64\n",
       "HouseFloor       float64\n",
       "HouseYear          int64\n",
       "Ecology_1        float64\n",
       "Ecology_2         object\n",
       "Ecology_3         object\n",
       "Social_1           int64\n",
       "Social_2           int64\n",
       "Social_3           int64\n",
       "Healthcare_1     float64\n",
       "Helthcare_2        int64\n",
       "Shops_1            int64\n",
       "Shops_2           object\n",
       "Price            float64\n",
       "dtype: object"
      ]
     },
     "execution_count": 818,
     "metadata": {},
     "output_type": "execute_result"
    }
   ],
   "source": [
    "train_df.dtypes"
   ]
  },
  {
   "cell_type": "code",
   "execution_count": 819,
   "metadata": {
    "execution": {
     "iopub.execute_input": "2021-05-25T16:01:59.067213Z",
     "iopub.status.busy": "2021-05-25T16:01:59.061817Z",
     "iopub.status.idle": "2021-05-25T16:01:59.071274Z",
     "shell.execute_reply": "2021-05-25T16:01:59.070672Z",
     "shell.execute_reply.started": "2021-05-25T15:46:36.096962Z"
    },
    "papermill": {
     "duration": 0.099884,
     "end_time": "2021-05-25T16:01:59.071403",
     "exception": false,
     "start_time": "2021-05-25T16:01:58.971519",
     "status": "completed"
    },
    "tags": []
   },
   "outputs": [],
   "source": [
    "train_df['Id'] = train_df['Id'].astype(str)\n",
    "train_df['DistrictId'] = train_df['DistrictId'].astype(str)"
   ]
  },
  {
   "cell_type": "markdown",
   "metadata": {
    "papermill": {
     "duration": 0.085738,
     "end_time": "2021-05-25T16:01:59.250092",
     "exception": false,
     "start_time": "2021-05-25T16:01:59.164354",
     "status": "completed"
    },
    "tags": []
   },
   "source": [
    "## 1. EDA  <a class='anchor' id='eda'>\n",
    "Делаем EDA для:\n",
    "- Исправления выбросов\n",
    "- Заполнения NaN\n",
    "- Идей для генерации новых фич"
   ]
  },
  {
   "cell_type": "markdown",
   "metadata": {
    "papermill": {
     "duration": 0.075486,
     "end_time": "2021-05-25T16:01:59.401752",
     "exception": false,
     "start_time": "2021-05-25T16:01:59.326266",
     "status": "completed"
    },
    "tags": []
   },
   "source": [
    "**Целевая переменная**"
   ]
  },
  {
   "cell_type": "code",
   "execution_count": 820,
   "metadata": {
    "execution": {
     "iopub.execute_input": "2021-05-25T16:01:59.561490Z",
     "iopub.status.busy": "2021-05-25T16:01:59.560734Z",
     "iopub.status.idle": "2021-05-25T16:01:59.857772Z",
     "shell.execute_reply": "2021-05-25T16:01:59.857217Z",
     "shell.execute_reply.started": "2021-05-25T15:46:36.118244Z"
    },
    "papermill": {
     "duration": 0.380161,
     "end_time": "2021-05-25T16:01:59.857915",
     "exception": false,
     "start_time": "2021-05-25T16:01:59.477754",
     "status": "completed"
    },
    "tags": []
   },
   "outputs": [
    {
     "data": {
      "image/png": "[encoded data removed]",
      "text/plain": [
       "<Figure size 720x360 with 1 Axes>"
      ]
     },
     "metadata": {
      "needs_background": "light"
     },
     "output_type": "display_data"
    }
   ],
   "source": [
    "plt.figure(figsize = (10, 5))\n",
    "\n",
    "train_df['Price'].hist(bins=20)\n",
    "plt.ylabel('Count')\n",
    "plt.xlabel('Price')\n",
    "\n",
    "plt.title('Target distribution')\n",
    "plt.show()"
   ]
  },
  {
   "cell_type": "markdown",
   "metadata": {
    "papermill": {
     "duration": 0.079617,
     "end_time": "2021-05-25T16:02:00.015857",
     "exception": false,
     "start_time": "2021-05-25T16:01:59.936240",
     "status": "completed"
    },
    "tags": []
   },
   "source": [
    "**Количественные переменные**"
   ]
  },
  {
   "cell_type": "code",
   "execution_count": 821,
   "metadata": {
    "execution": {
     "iopub.execute_input": "2021-05-25T16:02:00.186439Z",
     "iopub.status.busy": "2021-05-25T16:02:00.185690Z",
     "iopub.status.idle": "2021-05-25T16:02:00.365056Z",
     "shell.execute_reply": "2021-05-25T16:02:00.365579Z",
     "shell.execute_reply.started": "2021-05-25T15:46:36.412318Z"
    },
    "papermill": {
     "duration": 0.26824,
     "end_time": "2021-05-25T16:02:00.365743",
     "exception": false,
     "start_time": "2021-05-25T16:02:00.097503",
     "status": "completed"
    },
    "scrolled": true,
    "tags": []
   },
   "outputs": [
    {
     "data": {
      "text/html": [
       "<div>\n",
       "<style scoped>\n",
       "    .dataframe tbody tr th:only-of-type {\n",
       "        vertical-align: middle;\n",
       "    }\n",
       "\n",
       "    .dataframe tbody tr th {\n",
       "        vertical-align: top;\n",
       "    }\n",
       "\n",
       "    .dataframe thead th {\n",
       "        text-align: right;\n",
       "    }\n",
       "</style>\n",
       "<table border=\"1\" class=\"dataframe\">\n",
       "  <thead>\n",
       "    <tr style=\"text-align: right;\">\n",
       "      <th></th>\n",
       "      <th>Rooms</th>\n",
       "      <th>Square</th>\n",
       "      <th>LifeSquare</th>\n",
       "      <th>KitchenSquare</th>\n",
       "      <th>Floor</th>\n",
       "      <th>HouseFloor</th>\n",
       "      <th>HouseYear</th>\n",
       "      <th>Ecology_1</th>\n",
       "      <th>Social_1</th>\n",
       "      <th>Social_2</th>\n",
       "      <th>Social_3</th>\n",
       "      <th>Healthcare_1</th>\n",
       "      <th>Helthcare_2</th>\n",
       "      <th>Shops_1</th>\n",
       "      <th>Price</th>\n",
       "    </tr>\n",
       "  </thead>\n",
       "  <tbody>\n",
       "    <tr>\n",
       "      <th>count</th>\n",
       "      <td>10000.000000</td>\n",
       "      <td>10000.000000</td>\n",
       "      <td>7887.000000</td>\n",
       "      <td>10000.000000</td>\n",
       "      <td>10000.000000</td>\n",
       "      <td>10000.000000</td>\n",
       "      <td>1.000000e+04</td>\n",
       "      <td>10000.000000</td>\n",
       "      <td>10000.000000</td>\n",
       "      <td>10000.000000</td>\n",
       "      <td>10000.000000</td>\n",
       "      <td>5202.000000</td>\n",
       "      <td>10000.000000</td>\n",
       "      <td>10000.000000</td>\n",
       "      <td>10000.000000</td>\n",
       "    </tr>\n",
       "    <tr>\n",
       "      <th>mean</th>\n",
       "      <td>1.890500</td>\n",
       "      <td>56.315775</td>\n",
       "      <td>37.199645</td>\n",
       "      <td>6.273300</td>\n",
       "      <td>8.526700</td>\n",
       "      <td>12.609400</td>\n",
       "      <td>3.990166e+03</td>\n",
       "      <td>0.118858</td>\n",
       "      <td>24.687000</td>\n",
       "      <td>5352.157400</td>\n",
       "      <td>8.039200</td>\n",
       "      <td>1142.904460</td>\n",
       "      <td>1.319500</td>\n",
       "      <td>4.231300</td>\n",
       "      <td>214138.857399</td>\n",
       "    </tr>\n",
       "    <tr>\n",
       "      <th>std</th>\n",
       "      <td>0.839512</td>\n",
       "      <td>21.058732</td>\n",
       "      <td>86.241209</td>\n",
       "      <td>28.560917</td>\n",
       "      <td>5.241148</td>\n",
       "      <td>6.775974</td>\n",
       "      <td>2.005003e+05</td>\n",
       "      <td>0.119025</td>\n",
       "      <td>17.532614</td>\n",
       "      <td>4006.799803</td>\n",
       "      <td>23.831875</td>\n",
       "      <td>1021.517264</td>\n",
       "      <td>1.493601</td>\n",
       "      <td>4.806341</td>\n",
       "      <td>92872.293865</td>\n",
       "    </tr>\n",
       "    <tr>\n",
       "      <th>min</th>\n",
       "      <td>0.000000</td>\n",
       "      <td>1.136859</td>\n",
       "      <td>0.370619</td>\n",
       "      <td>0.000000</td>\n",
       "      <td>1.000000</td>\n",
       "      <td>0.000000</td>\n",
       "      <td>1.910000e+03</td>\n",
       "      <td>0.000000</td>\n",
       "      <td>0.000000</td>\n",
       "      <td>168.000000</td>\n",
       "      <td>0.000000</td>\n",
       "      <td>0.000000</td>\n",
       "      <td>0.000000</td>\n",
       "      <td>0.000000</td>\n",
       "      <td>59174.778028</td>\n",
       "    </tr>\n",
       "    <tr>\n",
       "      <th>25%</th>\n",
       "      <td>1.000000</td>\n",
       "      <td>41.774881</td>\n",
       "      <td>22.769832</td>\n",
       "      <td>1.000000</td>\n",
       "      <td>4.000000</td>\n",
       "      <td>9.000000</td>\n",
       "      <td>1.974000e+03</td>\n",
       "      <td>0.017647</td>\n",
       "      <td>6.000000</td>\n",
       "      <td>1564.000000</td>\n",
       "      <td>0.000000</td>\n",
       "      <td>350.000000</td>\n",
       "      <td>0.000000</td>\n",
       "      <td>1.000000</td>\n",
       "      <td>153872.633942</td>\n",
       "    </tr>\n",
       "    <tr>\n",
       "      <th>50%</th>\n",
       "      <td>2.000000</td>\n",
       "      <td>52.513310</td>\n",
       "      <td>32.781260</td>\n",
       "      <td>6.000000</td>\n",
       "      <td>7.000000</td>\n",
       "      <td>13.000000</td>\n",
       "      <td>1.977000e+03</td>\n",
       "      <td>0.075424</td>\n",
       "      <td>25.000000</td>\n",
       "      <td>5285.000000</td>\n",
       "      <td>2.000000</td>\n",
       "      <td>900.000000</td>\n",
       "      <td>1.000000</td>\n",
       "      <td>3.000000</td>\n",
       "      <td>192269.644879</td>\n",
       "    </tr>\n",
       "    <tr>\n",
       "      <th>75%</th>\n",
       "      <td>2.000000</td>\n",
       "      <td>65.900625</td>\n",
       "      <td>45.128803</td>\n",
       "      <td>9.000000</td>\n",
       "      <td>12.000000</td>\n",
       "      <td>17.000000</td>\n",
       "      <td>2.001000e+03</td>\n",
       "      <td>0.195781</td>\n",
       "      <td>36.000000</td>\n",
       "      <td>7227.000000</td>\n",
       "      <td>5.000000</td>\n",
       "      <td>1548.000000</td>\n",
       "      <td>2.000000</td>\n",
       "      <td>6.000000</td>\n",
       "      <td>249135.462171</td>\n",
       "    </tr>\n",
       "    <tr>\n",
       "      <th>max</th>\n",
       "      <td>19.000000</td>\n",
       "      <td>641.065193</td>\n",
       "      <td>7480.592129</td>\n",
       "      <td>2014.000000</td>\n",
       "      <td>42.000000</td>\n",
       "      <td>117.000000</td>\n",
       "      <td>2.005201e+07</td>\n",
       "      <td>0.521867</td>\n",
       "      <td>74.000000</td>\n",
       "      <td>19083.000000</td>\n",
       "      <td>141.000000</td>\n",
       "      <td>4849.000000</td>\n",
       "      <td>6.000000</td>\n",
       "      <td>23.000000</td>\n",
       "      <td>633233.466570</td>\n",
       "    </tr>\n",
       "  </tbody>\n",
       "</table>\n",
       "</div>"
      ],
      "text/plain": [
       "              Rooms        Square   LifeSquare  KitchenSquare         Floor  \\\n",
       "count  10000.000000  10000.000000  7887.000000   10000.000000  10000.000000   \n",
       "mean       1.890500     56.315775    37.199645       6.273300      8.526700   \n",
       "std        0.839512     21.058732    86.241209      28.560917      5.241148   \n",
       "min        0.000000      1.136859     0.370619       0.000000      1.000000   \n",
       "25%        1.000000     41.774881    22.769832       1.000000      4.000000   \n",
       "50%        2.000000     52.513310    32.781260       6.000000      7.000000   \n",
       "75%        2.000000     65.900625    45.128803       9.000000     12.000000   \n",
       "max       19.000000    641.065193  7480.592129    2014.000000     42.000000   \n",
       "\n",
       "         HouseFloor     HouseYear     Ecology_1      Social_1      Social_2  \\\n",
       "count  10000.000000  1.000000e+04  10000.000000  10000.000000  10000.000000   \n",
       "mean      12.609400  3.990166e+03      0.118858     24.687000   5352.157400   \n",
       "std        6.775974  2.005003e+05      0.119025     17.532614   4006.799803   \n",
       "min        0.000000  1.910000e+03      0.000000      0.000000    168.000000   \n",
       "25%        9.000000  1.974000e+03      0.017647      6.000000   1564.000000   \n",
       "50%       13.000000  1.977000e+03      0.075424     25.000000   5285.000000   \n",
       "75%       17.000000  2.001000e+03      0.195781     36.000000   7227.000000   \n",
       "max      117.000000  2.005201e+07      0.521867     74.000000  19083.000000   \n",
       "\n",
       "           Social_3  Healthcare_1   Helthcare_2       Shops_1          Price  \n",
       "count  10000.000000   5202.000000  10000.000000  10000.000000   10000.000000  \n",
       "mean       8.039200   1142.904460      1.319500      4.231300  214138.857399  \n",
       "std       23.831875   1021.517264      1.493601      4.806341   92872.293865  \n",
       "min        0.000000      0.000000      0.000000      0.000000   59174.778028  \n",
       "25%        0.000000    350.000000      0.000000      1.000000  153872.633942  \n",
       "50%        2.000000    900.000000      1.000000      3.000000  192269.644879  \n",
       "75%        5.000000   1548.000000      2.000000      6.000000  249135.462171  \n",
       "max      141.000000   4849.000000      6.000000     23.000000  633233.466570  "
      ]
     },
     "execution_count": 821,
     "metadata": {},
     "output_type": "execute_result"
    }
   ],
   "source": [
    "train_df.describe()"
   ]
  },
  {
   "cell_type": "markdown",
   "metadata": {},
   "source": [
    "Анализ данных по колонкам\n",
    "=="
   ]
  },
  {
   "cell_type": "markdown",
   "metadata": {},
   "source": [
    "**Rooms**"
   ]
  },
  {
   "cell_type": "code",
   "execution_count": 822,
   "metadata": {},
   "outputs": [
    {
     "data": {
      "text/plain": [
       "2.0     3880\n",
       "1.0     3705\n",
       "3.0     2235\n",
       "4.0      150\n",
       "5.0       18\n",
       "0.0        8\n",
       "10.0       2\n",
       "6.0        1\n",
       "19.0       1\n",
       "Name: Rooms, dtype: int64"
      ]
     },
     "execution_count": 822,
     "metadata": {},
     "output_type": "execute_result"
    }
   ],
   "source": [
    "train_df['Rooms'].value_counts()"
   ]
  },
  {
   "cell_type": "markdown",
   "metadata": {},
   "source": [
    "* Заменяем 0 и NaN на 1\n",
    "* удаляем записи больше 6 комнат"
   ]
  },
  {
   "cell_type": "code",
   "execution_count": 823,
   "metadata": {},
   "outputs": [
    {
     "data": {
      "text/plain": [
       "2.0    3880\n",
       "1.0    3713\n",
       "3.0    2235\n",
       "4.0     150\n",
       "5.0      18\n",
       "6.0       1\n",
       "Name: Rooms, dtype: int64"
      ]
     },
     "execution_count": 823,
     "metadata": {},
     "output_type": "execute_result"
    }
   ],
   "source": [
    "def fix_rooms(X):\n",
    "    X.loc[(X['Rooms'] == 0) | (X['Rooms'].isna()), 'Rooms'] = 1\n",
    "    X.drop(X.loc[(X['Rooms'] > 6)].index, inplace=True)\n",
    "    return X\n",
    "\n",
    "df = fix_rooms(train_df)\n",
    "df['Rooms'].value_counts()"
   ]
  },
  {
   "cell_type": "markdown",
   "metadata": {},
   "source": [
    "**Square**"
   ]
  },
  {
   "cell_type": "code",
   "execution_count": 824,
   "metadata": {},
   "outputs": [
    {
     "data": {
      "text/plain": [
       "count    9997.000000\n",
       "mean       56.316477\n",
       "std        21.061338\n",
       "min         1.136859\n",
       "25%        41.773176\n",
       "50%        52.512769\n",
       "75%        65.904217\n",
       "max       641.065193\n",
       "Name: Square, dtype: float64"
      ]
     },
     "execution_count": 824,
     "metadata": {},
     "output_type": "execute_result"
    }
   ],
   "source": [
    "train_df['Square'].describe()"
   ]
  },
  {
   "cell_type": "markdown",
   "metadata": {},
   "source": [
    "Видно, что есть проблемы, поэтому отрежем по 10% с начала и с конца распределения.\n",
    "\n",
    "NaN заменим средним"
   ]
  },
  {
   "cell_type": "code",
   "execution_count": 825,
   "metadata": {},
   "outputs": [
    {
     "data": {
      "text/plain": [
       "count    7997.000000\n",
       "mean       54.177861\n",
       "std        12.271905\n",
       "min        36.992899\n",
       "25%        43.095135\n",
       "50%        52.512769\n",
       "75%        63.378765\n",
       "max        80.853653\n",
       "Name: Square, dtype: float64"
      ]
     },
     "execution_count": 825,
     "metadata": {},
     "output_type": "execute_result"
    }
   ],
   "source": [
    "def fix_square(X, cut_percent=0.1):\n",
    "    min = X['Square'].quantile(cut_percent)\n",
    "    max = X['Square'].quantile(1 - cut_percent)\n",
    "    X.loc[(X['Square'].isna()), 'Square'] = X['Square'].mean()\n",
    "    X.drop(X.loc[(X['Square'] < min) | (X['Square'] > max)].index, inplace=True)\n",
    "    return X\n",
    "\n",
    "df = fix_square(train_df)\n",
    "df['Square'].describe()"
   ]
  },
  {
   "cell_type": "markdown",
   "metadata": {},
   "source": [
    "**LifeSquare**"
   ]
  },
  {
   "cell_type": "code",
   "execution_count": 826,
   "metadata": {},
   "outputs": [
    {
     "data": {
      "text/plain": [
       "count    6252.000000\n",
       "mean       35.069486\n",
       "std        14.845398\n",
       "min         0.370619\n",
       "25%        24.742651\n",
       "50%        33.104997\n",
       "75%        43.506850\n",
       "max       461.463614\n",
       "Name: LifeSquare, dtype: float64"
      ]
     },
     "execution_count": 826,
     "metadata": {},
     "output_type": "execute_result"
    }
   ],
   "source": [
    "train_df['LifeSquare'].describe()"
   ]
  },
  {
   "cell_type": "markdown",
   "metadata": {},
   "source": [
    "Аналогично, есть проблемы. Отрезаем по 10%, NaN заменяем на среднее. Если жилая площадь больше общей - удаляем."
   ]
  },
  {
   "cell_type": "code",
   "execution_count": 827,
   "metadata": {},
   "outputs": [
    {
     "data": {
      "text/plain": [
       "count    6586.000000\n",
       "mean       34.099920\n",
       "std         7.124429\n",
       "min        20.543958\n",
       "25%        30.201771\n",
       "50%        35.069486\n",
       "75%        36.378661\n",
       "max        50.547200\n",
       "Name: LifeSquare, dtype: float64"
      ]
     },
     "execution_count": 827,
     "metadata": {},
     "output_type": "execute_result"
    }
   ],
   "source": [
    "def fix_life_square(X, cut_percent=0.1):\n",
    "    min = X['LifeSquare'].quantile(cut_percent)\n",
    "    max = X['LifeSquare'].quantile(1 - cut_percent)\n",
    "    X.loc[(X['LifeSquare'].isna()), 'LifeSquare'] = X['LifeSquare'].mean()\n",
    "    X.drop(X.loc[(X['LifeSquare'] < min) | (X['LifeSquare'] > max) | (X['LifeSquare'] > X['Square'])].index, inplace=True)\n",
    "    return X\n",
    "\n",
    "df = fix_life_square(train_df)\n",
    "df['LifeSquare'].describe()"
   ]
  },
  {
   "cell_type": "markdown",
   "metadata": {},
   "source": [
    "**KitchenSquare**"
   ]
  },
  {
   "cell_type": "code",
   "execution_count": 828,
   "metadata": {},
   "outputs": [
    {
     "data": {
      "text/plain": [
       "count    6586.000000\n",
       "mean        6.190100\n",
       "std        25.094506\n",
       "min         0.000000\n",
       "25%         1.000000\n",
       "50%         6.000000\n",
       "75%         9.000000\n",
       "max      2014.000000\n",
       "Name: KitchenSquare, dtype: float64"
      ]
     },
     "execution_count": 828,
     "metadata": {},
     "output_type": "execute_result"
    }
   ],
   "source": [
    "train_df['KitchenSquare'].describe()"
   ]
  },
  {
   "cell_type": "markdown",
   "metadata": {},
   "source": [
    "Заменяем меньше 6 на 6. Если жилая площадь больше общей - удаляем."
   ]
  },
  {
   "cell_type": "code",
   "execution_count": 829,
   "metadata": {},
   "outputs": [
    {
     "data": {
      "text/plain": [
       "count    6585.000000\n",
       "mean        7.507062\n",
       "std         2.685972\n",
       "min         6.000000\n",
       "25%         6.000000\n",
       "50%         6.000000\n",
       "75%         9.000000\n",
       "max        75.000000\n",
       "Name: KitchenSquare, dtype: float64"
      ]
     },
     "execution_count": 829,
     "metadata": {},
     "output_type": "execute_result"
    }
   ],
   "source": [
    "def fix_kitchen_square(X, low_fix=6):\n",
    "    X.loc[(X['KitchenSquare'].isna()) | (X['KitchenSquare'] < low_fix), 'KitchenSquare'] = low_fix\n",
    "    X.drop(X.loc[(X['KitchenSquare'] > X['Square'])].index, inplace=True)\n",
    "    return X\n",
    "\n",
    "df = fix_kitchen_square(train_df)\n",
    "df['KitchenSquare'].describe()"
   ]
  },
  {
   "cell_type": "markdown",
   "metadata": {},
   "source": [
    "**HouseFloor**"
   ]
  },
  {
   "cell_type": "code",
   "execution_count": 830,
   "metadata": {},
   "outputs": [
    {
     "data": {
      "text/plain": [
       "count    6585.000000\n",
       "mean       12.731207\n",
       "std         6.304016\n",
       "min         0.000000\n",
       "25%         9.000000\n",
       "50%        14.000000\n",
       "75%        17.000000\n",
       "max        99.000000\n",
       "Name: HouseFloor, dtype: float64"
      ]
     },
     "execution_count": 830,
     "metadata": {},
     "output_type": "execute_result"
    }
   ],
   "source": [
    "train_df['HouseFloor'].describe()"
   ]
  },
  {
   "cell_type": "markdown",
   "metadata": {},
   "source": [
    "Есть проблема с нулевым этажом. Заменим его на самый популярный"
   ]
  },
  {
   "cell_type": "code",
   "execution_count": 831,
   "metadata": {},
   "outputs": [
    {
     "data": {
      "text/plain": [
       "count    6409.000000\n",
       "mean       13.080824\n",
       "std         6.021473\n",
       "min         1.000000\n",
       "25%         9.000000\n",
       "50%        14.000000\n",
       "75%        17.000000\n",
       "max        99.000000\n",
       "Name: HouseFloor, dtype: float64"
      ]
     },
     "execution_count": 831,
     "metadata": {},
     "output_type": "execute_result"
    }
   ],
   "source": [
    "def fix_house_floor(X):\n",
    "    X.loc[(X['HouseFloor'].isna()) | (X['HouseFloor'] < 1), 'HouseFloor'] = X['HouseFloor'].mode()\n",
    "    return X\n",
    "\n",
    "df = fix_house_floor(train_df)\n",
    "df['HouseFloor'].describe()"
   ]
  },
  {
   "cell_type": "markdown",
   "metadata": {},
   "source": [
    "**Floor**"
   ]
  },
  {
   "cell_type": "code",
   "execution_count": 832,
   "metadata": {},
   "outputs": [
    {
     "data": {
      "text/plain": [
       "count    6585.000000\n",
       "mean        8.482156\n",
       "std         5.046656\n",
       "min         1.000000\n",
       "25%         4.000000\n",
       "50%         7.000000\n",
       "75%        12.000000\n",
       "max        42.000000\n",
       "Name: Floor, dtype: float64"
      ]
     },
     "execution_count": 832,
     "metadata": {},
     "output_type": "execute_result"
    }
   ],
   "source": [
    "train_df['Floor'].describe()"
   ]
  },
  {
   "cell_type": "markdown",
   "metadata": {},
   "source": [
    "Проблем вроде нет, но мы добавим фильтры на NaN, меньше 1 и больше чем этажей в доме с заменой на самый популярный"
   ]
  },
  {
   "cell_type": "code",
   "execution_count": 833,
   "metadata": {},
   "outputs": [
    {
     "data": {
      "text/plain": [
       "count    5665.000000\n",
       "mean        8.022065\n",
       "std         4.835468\n",
       "min         1.000000\n",
       "25%         4.000000\n",
       "50%         7.000000\n",
       "75%        11.000000\n",
       "max        42.000000\n",
       "Name: Floor, dtype: float64"
      ]
     },
     "execution_count": 833,
     "metadata": {},
     "output_type": "execute_result"
    }
   ],
   "source": [
    "def fix_floor(X):\n",
    "    X.loc[(X['Floor'].isna()) | (X['Floor'] < 1) | (X['Floor'] > X['HouseFloor']), 'Floor'] = X['Floor'].mode()\n",
    "    return X\n",
    "\n",
    "df = fix_floor(train_df)\n",
    "df['Floor'].describe()"
   ]
  },
  {
   "cell_type": "markdown",
   "metadata": {},
   "source": [
    "**HouseYear**"
   ]
  },
  {
   "cell_type": "code",
   "execution_count": 834,
   "metadata": {},
   "outputs": [
    {
     "data": {
      "text/plain": [
       "count    6585.000000\n",
       "mean     1983.450873\n",
       "std        40.385608\n",
       "min      1912.000000\n",
       "25%      1973.000000\n",
       "50%      1977.000000\n",
       "75%      1993.000000\n",
       "max      4968.000000\n",
       "Name: HouseYear, dtype: float64"
      ]
     },
     "execution_count": 834,
     "metadata": {},
     "output_type": "execute_result"
    }
   ],
   "source": [
    "train_df['HouseYear'].describe()"
   ]
  },
  {
   "cell_type": "markdown",
   "metadata": {},
   "source": [
    "Проблемы со значениями больше текущего года. Больше текущего года NaN заменим на самый популярный"
   ]
  },
  {
   "cell_type": "code",
   "execution_count": 835,
   "metadata": {},
   "outputs": [
    {
     "data": {
      "text/plain": [
       "count    6584.000000\n",
       "mean     1982.997570\n",
       "std        16.671172\n",
       "min      1912.000000\n",
       "25%      1973.000000\n",
       "50%      1977.000000\n",
       "75%      1993.000000\n",
       "max      2020.000000\n",
       "Name: HouseYear, dtype: float64"
      ]
     },
     "execution_count": 835,
     "metadata": {},
     "output_type": "execute_result"
    }
   ],
   "source": [
    "def fix_house_year(X):\n",
    "    X.loc[(X['HouseYear'].isna()) | (X['HouseYear'] > datetime.today().year), 'HouseYear'] = X['HouseYear'].mode()\n",
    "    return X\n",
    "\n",
    "df = fix_house_year(train_df)\n",
    "df['HouseYear'].describe()"
   ]
  },
  {
   "cell_type": "markdown",
   "metadata": {},
   "source": [
    "**Ecology_1**"
   ]
  },
  {
   "cell_type": "code",
   "execution_count": 836,
   "metadata": {},
   "outputs": [
    {
     "data": {
      "text/plain": [
       "count    6585.000000\n",
       "mean        0.119493\n",
       "std         0.119905\n",
       "min         0.000000\n",
       "25%         0.017647\n",
       "50%         0.075779\n",
       "75%         0.195781\n",
       "max         0.521867\n",
       "Name: Ecology_1, dtype: float64"
      ]
     },
     "execution_count": 836,
     "metadata": {},
     "output_type": "execute_result"
    }
   ],
   "source": [
    "train_df['Ecology_1'].describe()"
   ]
  },
  {
   "cell_type": "markdown",
   "metadata": {},
   "source": [
    "На вид проблем нет, но если будут пропуски заменим на средние по району. Если в районе все NaN - просто на среднее."
   ]
  },
  {
   "cell_type": "code",
   "execution_count": 837,
   "metadata": {},
   "outputs": [
    {
     "data": {
      "text/plain": [
       "count    10000.000000\n",
       "mean         0.118858\n",
       "std          0.119025\n",
       "min          0.000000\n",
       "25%          0.017647\n",
       "50%          0.075424\n",
       "75%          0.195781\n",
       "max          0.521867\n",
       "Name: Ecology_1, dtype: float64"
      ]
     },
     "execution_count": 837,
     "metadata": {},
     "output_type": "execute_result"
    }
   ],
   "source": [
    "def fix_by_districts_mean(X, column):\n",
    "    df = X.groupby('DistrictId')\n",
    "    means = df[column].mean().to_dict()\n",
    "    for DistrictId in means:\n",
    "        X.loc[(X[column].isna()) & (X['DistrictId'] == DistrictId), column] = means[DistrictId] if not np.isnan(means[DistrictId]) else X[column].mode()\n",
    "    return X\n",
    "\n",
    "df = fix_by_districts_mean(X, 'Ecology_1')\n",
    "df['Ecology_1'].describe()"
   ]
  },
  {
   "cell_type": "markdown",
   "metadata": {},
   "source": [
    "**Healthcare_1**"
   ]
  },
  {
   "cell_type": "code",
   "execution_count": 838,
   "metadata": {},
   "outputs": [
    {
     "data": {
      "text/plain": [
       "count    3528.000000\n",
       "mean     1127.209751\n",
       "std      1016.576947\n",
       "min         0.000000\n",
       "25%       325.000000\n",
       "50%       900.000000\n",
       "75%      1547.000000\n",
       "max      4849.000000\n",
       "Name: Healthcare_1, dtype: float64"
      ]
     },
     "execution_count": 838,
     "metadata": {},
     "output_type": "execute_result"
    }
   ],
   "source": [
    "train_df['Healthcare_1'].describe()"
   ]
  },
  {
   "cell_type": "markdown",
   "metadata": {},
   "source": [
    "То же что и Ecology_1"
   ]
  },
  {
   "cell_type": "code",
   "execution_count": 839,
   "metadata": {},
   "outputs": [
    {
     "data": {
      "text/plain": [
       "count    8117.000000\n",
       "mean     1048.519704\n",
       "std      1014.761349\n",
       "min         0.000000\n",
       "25%       228.771930\n",
       "50%       770.000000\n",
       "75%      1450.000000\n",
       "max      4849.000000\n",
       "Name: Healthcare_1, dtype: float64"
      ]
     },
     "execution_count": 839,
     "metadata": {},
     "output_type": "execute_result"
    }
   ],
   "source": [
    "df = fix_by_districts_mean(X, 'Healthcare_1')\n",
    "df['Healthcare_1'].describe()"
   ]
  },
  {
   "cell_type": "markdown",
   "metadata": {},
   "source": [
    "**Ecology_2, Ecology_3, Shops_2**"
   ]
  },
  {
   "cell_type": "markdown",
   "metadata": {},
   "source": [
    "Просто автозамена по словарю"
   ]
  },
  {
   "cell_type": "code",
   "execution_count": 840,
   "metadata": {},
   "outputs": [],
   "source": [
    "def fix_by_dict(X, column, replace):\n",
    "    X[column] = train_df[column].replace(replace)\n",
    "    return X\n",
    "\n",
    "\n",
    "# binary_to_numbers = {'A': 0, 'B': 1}\n",
    "\n",
    "# df = fix_by_dict(train_df, 'Ecology_2', binary_to_numbers)\n",
    "# df = fix_by_dict(df, 'Ecology_3', binary_to_numbers)\n",
    "# df = fix_by_dict(df, 'Shops_2', binary_to_numbers)\n",
    "\n",
    "# df['Shops_2'].value_counts()"
   ]
  },
  {
   "cell_type": "markdown",
   "metadata": {},
   "source": [
    "**Social_1, Social_2, Social_3, Helthcare_2, Shops_1**"
   ]
  },
  {
   "cell_type": "code",
   "execution_count": 841,
   "metadata": {},
   "outputs": [],
   "source": [
    "def fix_by_mode(X, column):\n",
    "    X.loc[(X[column].isna()), column] = X[column].mode()\n",
    "    return X\n",
    "\n",
    "# df = fix_by_mode(train_df, 'Social_1')\n",
    "# df = fix_by_mode(train_df, 'Social_2')\n",
    "# df = fix_by_mode(train_df, 'Social_3')\n",
    "# df = fix_by_mode(train_df, 'Helthcare_2')\n",
    "# df = fix_by_mode(train_df, 'Shops_1')\n"
   ]
  },
  {
   "cell_type": "markdown",
   "metadata": {},
   "source": [
    "DataPreprocessing class\n",
    "=="
   ]
  },
  {
   "cell_type": "code",
   "execution_count": 842,
   "metadata": {},
   "outputs": [],
   "source": [
    "class DataDrop:\n",
    "    def drop(self, X):\n",
    "        X = self.drop_rooms(X)\n",
    "        X = self.drop_square(X)\n",
    "        X = self.drop_life_square(X)\n",
    "        X = self.drop_kitchen_square(X)\n",
    "        return X\n",
    "\n",
    "    def drop_rooms(self, X):\n",
    "        X.drop(X.loc[(X['Rooms'] > 6)].index, inplace=True)\n",
    "        return X\n",
    "\n",
    "    def drop_square(self, X, cut_percent=0.1):\n",
    "        min = X['Square'].quantile(cut_percent)\n",
    "        max = X['Square'].quantile(1 - cut_percent)\n",
    "        X.drop(X.loc[(X['Square'] < min) | (X['Square'] > max)].index, inplace=True)\n",
    "        return X\n",
    "\n",
    "    def drop_life_square(self, X, cut_percent=0.1):\n",
    "        min = X['LifeSquare'].quantile(cut_percent)\n",
    "        max = X['LifeSquare'].quantile(1 - cut_percent)\n",
    "        X.drop(X.loc[(X['LifeSquare'] < min) | (X['LifeSquare'] > max) | (X['LifeSquare'] > X['Square'])].index, inplace=True)\n",
    "        return X\n",
    "\n",
    "    def drop_kitchen_square(self, X):\n",
    "        X.drop(X.loc[(X['KitchenSquare'] > X['Square'])].index, inplace=True)\n",
    "        return X"
   ]
  },
  {
   "cell_type": "code",
   "execution_count": 843,
   "metadata": {
    "execution": {
     "iopub.execute_input": "2021-05-25T16:02:07.005951Z",
     "iopub.status.busy": "2021-05-25T16:02:07.005251Z",
     "iopub.status.idle": "2021-05-25T16:02:07.026373Z",
     "shell.execute_reply": "2021-05-25T16:02:07.026926Z",
     "shell.execute_reply.started": "2021-05-25T15:46:37.146258Z"
    },
    "papermill": {
     "duration": 0.110755,
     "end_time": "2021-05-25T16:02:07.027119",
     "exception": false,
     "start_time": "2021-05-25T16:02:06.916364",
     "status": "completed"
    },
    "tags": []
   },
   "outputs": [],
   "source": [
    "class DataPreprocessing:\n",
    "    \"\"\"Подготовка исходных данных\"\"\"\n",
    "\n",
    "    def __init__(self):\n",
    "        \"\"\"Параметры класса\"\"\"\n",
    "#         self.medians = None\n",
    "#         self.kitchen_square_quantile = None\n",
    "        \n",
    "    def fit(self, X):\n",
    "        \"\"\"Сохранение статистик\"\"\"\n",
    "#         self.means = {}\n",
    "#         self.districts = df['DistrictId'].unique()\n",
    "#         df = X.groupby('DistrictId')\n",
    "#         for column in ['Ecology_1', 'Healthcare_1']:\n",
    "#             means = df[column].mean().to_dict()\n",
    "#             for district in self.districts:\n",
    "#                 self.means[column] = df[column].mean().to_dict()\n",
    "        self.binary_to_numbers = {'A': 0, 'B': 1}\n",
    "\n",
    "    def transform(self, X):\n",
    "        \"\"\"Трансформация данных\"\"\"\n",
    "\n",
    "        X = self.fix_rooms(X)\n",
    "        X = self.fix_square(X)\n",
    "        X = self.fix_life_square(X)\n",
    "        X = self.fix_kitchen_square(X)\n",
    "        X = self.fix_house_floor(X)\n",
    "        X = self.fix_floor(X)\n",
    "        X = self.fix_house_year(X)\n",
    "        X = self.fix_by_districts_mean(X, 'Ecology_1')\n",
    "        X = self.fix_by_districts_mean(X, 'Healthcare_1')\n",
    "        X = self.fix_by_dict(X, 'Ecology_2', self.binary_to_numbers)\n",
    "        X = self.fix_by_dict(X, 'Ecology_3', self.binary_to_numbers)\n",
    "        X = self.fix_by_dict(X, 'Shops_2', self.binary_to_numbers)\n",
    "        X = self.fix_by_mode(X, 'Social_1')\n",
    "        X = self.fix_by_mode(X, 'Social_2')\n",
    "        X = self.fix_by_mode(X, 'Social_3')\n",
    "        X = self.fix_by_mode(X, 'Helthcare_2')\n",
    "        X = self.fix_by_mode(X, 'Shops_1')\n",
    "        return X\n",
    "  \n",
    "    def fix_rooms(self, X):\n",
    "        X.loc[(X['Rooms'] == 0) | (X['Rooms'].isna()), 'Rooms'] = 1\n",
    "        return X\n",
    "\n",
    "    def fix_square(self, X):\n",
    "        X.loc[(X['Square'].isna()), 'Square'] = X['Square'].mean()\n",
    "        return X\n",
    "\n",
    "    def fix_life_square(self, X):\n",
    "        X.loc[(X['LifeSquare'].isna()), 'LifeSquare'] = X['LifeSquare'].mean()\n",
    "        return X\n",
    "\n",
    "    def fix_kitchen_square(self, X, low_fix=6):\n",
    "        X.loc[(X['KitchenSquare'].isna()) | (X['KitchenSquare'] < low_fix), 'KitchenSquare'] = low_fix\n",
    "        return X\n",
    "\n",
    "    def fix_house_floor(self, X):\n",
    "        X.loc[(X['HouseFloor'].isna()) | (X['HouseFloor'] < 1), 'HouseFloor'] = X['HouseFloor'].mode()[0]\n",
    "        return X\n",
    "\n",
    "    def fix_floor(self, X):\n",
    "        X.loc[(X['Floor'].isna()) | (X['Floor'] < 1) | (X['Floor'] > X['HouseFloor']), 'Floor'] = X['Floor'].mode()[0]\n",
    "        return X\n",
    "\n",
    "    def fix_house_year(self, X):\n",
    "        X.loc[(X['HouseYear'].isna()) | (X['HouseYear'] > datetime.today().year), 'HouseYear'] = X['HouseYear'].mode()[0]\n",
    "        return X\n",
    "\n",
    "    def fix_by_districts_mean(self, X, column):\n",
    "#         for DistrictId in means:\n",
    "#             X.loc[(X[column].isna()) & (X['DistrictId'] == DistrictId), column] = self.means[column][DistrictId] if not np.isnan(self.means[column][DistrictId]) else X[column].mode()\n",
    "        X.loc[(X[column].isna()), column] = X[column].mean()\n",
    "        return X\n",
    "\n",
    "    def fix_by_dict(self, X, column, replace):\n",
    "        X[column] = train_df[column].replace(replace)\n",
    "        X.loc[(X[column].isna()), column] = X[column].mode()[0]\n",
    "        return X\n",
    "\n",
    "    def fix_by_mode(self, X, column):\n",
    "        X.loc[(X[column].isna()), column] = X[column].mode()[0]\n",
    "        return X\n"
   ]
  },
  {
   "cell_type": "markdown",
   "metadata": {
    "papermill": {
     "duration": 0.085648,
     "end_time": "2021-05-25T16:02:07.203451",
     "exception": false,
     "start_time": "2021-05-25T16:02:07.117803",
     "status": "completed"
    },
    "tags": []
   },
   "source": [
    "### 4. Построение новых признаков  <a class='anchor' id='feature'>"
   ]
  },
  {
   "cell_type": "markdown",
   "metadata": {},
   "source": [
    "Пропустим пока это..."
   ]
  },
  {
   "cell_type": "code",
   "execution_count": 844,
   "metadata": {
    "execution": {
     "iopub.execute_input": "2021-05-25T16:02:10.966543Z",
     "iopub.status.busy": "2021-05-25T16:02:10.961343Z",
     "iopub.status.idle": "2021-05-25T16:02:10.981214Z",
     "shell.execute_reply": "2021-05-25T16:02:10.980499Z",
     "shell.execute_reply.started": "2021-05-25T15:47:32.534484Z"
    },
    "papermill": {
     "duration": 0.124519,
     "end_time": "2021-05-25T16:02:10.981349",
     "exception": false,
     "start_time": "2021-05-25T16:02:10.856830",
     "status": "completed"
    },
    "tags": []
   },
   "outputs": [],
   "source": [
    "class FeatureGenetator():\n",
    "    \"\"\"Генерация новых фич\"\"\"\n",
    "    \n",
    "    def __init__(self):\n",
    "        pass\n",
    "        \n",
    "    def fit(self, X, y=None):\n",
    "        pass\n",
    "        \n",
    "    def transform(self, X):\n",
    "        return X\n"
   ]
  },
  {
   "cell_type": "markdown",
   "metadata": {
    "papermill": {
     "duration": 0.092046,
     "end_time": "2021-05-25T16:02:11.164352",
     "exception": false,
     "start_time": "2021-05-25T16:02:11.072306",
     "status": "completed"
    },
    "tags": []
   },
   "source": [
    "### 5. Отбор признаков  <a class='anchor' id='feature_selection'>"
   ]
  },
  {
   "cell_type": "code",
   "execution_count": 845,
   "metadata": {
    "execution": {
     "iopub.execute_input": "2021-05-25T16:02:11.547990Z",
     "iopub.status.busy": "2021-05-25T16:02:11.546997Z",
     "iopub.status.idle": "2021-05-25T16:02:11.549789Z",
     "shell.execute_reply": "2021-05-25T16:02:11.549265Z",
     "shell.execute_reply.started": "2021-05-25T15:47:35.367865Z"
    },
    "papermill": {
     "duration": 0.101208,
     "end_time": "2021-05-25T16:02:11.549933",
     "exception": false,
     "start_time": "2021-05-25T16:02:11.448725",
     "status": "completed"
    },
    "tags": []
   },
   "outputs": [],
   "source": [
    "feature_names = ['DistrictId', 'Rooms', 'Square', 'LifeSquare', 'KitchenSquare', 'Floor', 'HouseFloor', 'HouseYear',\n",
    "                 'Ecology_1', 'Ecology_2', 'Ecology_3', 'Social_1', 'Social_2', 'Social_3',\n",
    "                 'Healthcare_1', 'Helthcare_2', 'Shops_1', 'Shops_2']\n",
    "new_feature_names = []\n",
    "\n",
    "target_name = 'Price'"
   ]
  },
  {
   "cell_type": "markdown",
   "metadata": {
    "papermill": {
     "duration": 0.090753,
     "end_time": "2021-05-25T16:02:11.731854",
     "exception": false,
     "start_time": "2021-05-25T16:02:11.641101",
     "status": "completed"
    },
    "tags": []
   },
   "source": [
    "### 6. Разбиение на train и test  <a class='anchor' id='split'>"
   ]
  },
  {
   "cell_type": "code",
   "execution_count": 1160,
   "metadata": {},
   "outputs": [],
   "source": [
    "dropper = DataDrop()"
   ]
  },
  {
   "cell_type": "code",
   "execution_count": 1161,
   "metadata": {
    "execution": {
     "iopub.execute_input": "2021-05-25T16:02:11.928122Z",
     "iopub.status.busy": "2021-05-25T16:02:11.927368Z",
     "iopub.status.idle": "2021-05-25T16:02:11.981388Z",
     "shell.execute_reply": "2021-05-25T16:02:11.980709Z",
     "shell.execute_reply.started": "2021-05-25T15:47:36.631603Z"
    },
    "papermill": {
     "duration": 0.154175,
     "end_time": "2021-05-25T16:02:11.981515",
     "exception": false,
     "start_time": "2021-05-25T16:02:11.827340",
     "status": "completed"
    },
    "tags": []
   },
   "outputs": [],
   "source": [
    "train_df = pd.read_csv(TRAIN_DATASET_PATH)\n",
    "# train_df = dropper.drop(train_df)\n",
    "test_df = pd.read_csv(TEST_DATASET_PATH)\n",
    "\n",
    "X = train_df.drop(columns=target_name)\n",
    "y = train_df[target_name]"
   ]
  },
  {
   "cell_type": "code",
   "execution_count": 1162,
   "metadata": {
    "execution": {
     "iopub.execute_input": "2021-05-25T16:02:12.175098Z",
     "iopub.status.busy": "2021-05-25T16:02:12.174046Z",
     "iopub.status.idle": "2021-05-25T16:02:12.180264Z",
     "shell.execute_reply": "2021-05-25T16:02:12.180791Z",
     "shell.execute_reply.started": "2021-05-25T15:47:37.087568Z"
    },
    "papermill": {
     "duration": 0.106489,
     "end_time": "2021-05-25T16:02:12.180959",
     "exception": false,
     "start_time": "2021-05-25T16:02:12.074470",
     "status": "completed"
    },
    "tags": []
   },
   "outputs": [],
   "source": [
    "X_train, X_valid, y_train, y_valid = train_test_split(X, y, test_size=0.33, shuffle=True, random_state=21)"
   ]
  },
  {
   "cell_type": "code",
   "execution_count": 1163,
   "metadata": {
    "execution": {
     "iopub.execute_input": "2021-05-25T16:02:12.368496Z",
     "iopub.status.busy": "2021-05-25T16:02:12.367414Z",
     "iopub.status.idle": "2021-05-25T16:02:12.454383Z",
     "shell.execute_reply": "2021-05-25T16:02:12.453834Z",
     "shell.execute_reply.started": "2021-05-25T15:47:37.436379Z"
    },
    "papermill": {
     "duration": 0.182333,
     "end_time": "2021-05-25T16:02:12.454511",
     "exception": false,
     "start_time": "2021-05-25T16:02:12.272178",
     "status": "completed"
    },
    "tags": []
   },
   "outputs": [
    {
     "data": {
      "text/plain": [
       "((4411, 19), (2174, 19), (5000, 19))"
      ]
     },
     "execution_count": 1163,
     "metadata": {},
     "output_type": "execute_result"
    }
   ],
   "source": [
    "preprocessor = DataPreprocessing()\n",
    "preprocessor.fit(X_train)\n",
    "\n",
    "X_train = preprocessor.transform(X_train)\n",
    "X_valid = preprocessor.transform(X_valid)\n",
    "test_df = preprocessor.transform(test_df)\n",
    "\n",
    "X_train.shape, X_valid.shape, test_df.shape"
   ]
  },
  {
   "cell_type": "code",
   "execution_count": 1164,
   "metadata": {
    "execution": {
     "iopub.execute_input": "2021-05-25T16:02:12.644161Z",
     "iopub.status.busy": "2021-05-25T16:02:12.643442Z",
     "iopub.status.idle": "2021-05-25T16:02:12.761305Z",
     "shell.execute_reply": "2021-05-25T16:02:12.760528Z",
     "shell.execute_reply.started": "2021-05-25T15:47:38.721456Z"
    },
    "papermill": {
     "duration": 0.215708,
     "end_time": "2021-05-25T16:02:12.761444",
     "exception": false,
     "start_time": "2021-05-25T16:02:12.545736",
     "status": "completed"
    },
    "tags": []
   },
   "outputs": [
    {
     "data": {
      "text/plain": [
       "((4411, 19), (2174, 19), (5000, 19))"
      ]
     },
     "execution_count": 1164,
     "metadata": {},
     "output_type": "execute_result"
    }
   ],
   "source": [
    "features_gen = FeatureGenetator()\n",
    "features_gen.fit(X_train, y_train)\n",
    "\n",
    "X_train = features_gen.transform(X_train)\n",
    "X_valid = features_gen.transform(X_valid)\n",
    "test_df = features_gen.transform(test_df)\n",
    "\n",
    "X_train.shape, X_valid.shape, test_df.shape"
   ]
  },
  {
   "cell_type": "code",
   "execution_count": 1165,
   "metadata": {
    "execution": {
     "iopub.execute_input": "2021-05-25T16:02:12.954075Z",
     "iopub.status.busy": "2021-05-25T16:02:12.953295Z",
     "iopub.status.idle": "2021-05-25T16:02:12.964145Z",
     "shell.execute_reply": "2021-05-25T16:02:12.963562Z",
     "shell.execute_reply.started": "2021-05-25T15:47:40.173643Z"
    },
    "papermill": {
     "duration": 0.109599,
     "end_time": "2021-05-25T16:02:12.964289",
     "exception": false,
     "start_time": "2021-05-25T16:02:12.854690",
     "status": "completed"
    },
    "tags": []
   },
   "outputs": [],
   "source": [
    "X_train = X_train[feature_names + new_feature_names]\n",
    "X_valid = X_valid[feature_names + new_feature_names]\n",
    "test_df = test_df[feature_names + new_feature_names]"
   ]
  },
  {
   "cell_type": "code",
   "execution_count": 1166,
   "metadata": {
    "execution": {
     "iopub.execute_input": "2021-05-25T16:02:13.152081Z",
     "iopub.status.busy": "2021-05-25T16:02:13.151037Z",
     "iopub.status.idle": "2021-05-25T16:02:13.163090Z",
     "shell.execute_reply": "2021-05-25T16:02:13.162525Z",
     "shell.execute_reply.started": "2021-05-25T15:47:40.661069Z"
    },
    "papermill": {
     "duration": 0.10741,
     "end_time": "2021-05-25T16:02:13.163220",
     "exception": false,
     "start_time": "2021-05-25T16:02:13.055810",
     "status": "completed"
    },
    "tags": []
   },
   "outputs": [
    {
     "data": {
      "text/plain": [
       "(0, 0, 0)"
      ]
     },
     "execution_count": 1166,
     "metadata": {},
     "output_type": "execute_result"
    }
   ],
   "source": [
    "X_train.isna().sum().sum(), X_valid.isna().sum().sum(), test_df.isna().sum().sum()"
   ]
  },
  {
   "cell_type": "markdown",
   "metadata": {
    "papermill": {
     "duration": 0.091253,
     "end_time": "2021-05-25T16:02:13.346936",
     "exception": false,
     "start_time": "2021-05-25T16:02:13.255683",
     "status": "completed"
    },
    "tags": []
   },
   "source": [
    "### 7. Построение модели  <a class='anchor' id='modeling'>"
   ]
  },
  {
   "cell_type": "markdown",
   "metadata": {},
   "source": [
    "#### Подборка параметров"
   ]
  },
  {
   "cell_type": "code",
   "execution_count": 1167,
   "metadata": {},
   "outputs": [
    {
     "data": {
      "image/png": "[encoded data removed]",
      "text/plain": [
       "<Figure size 432x288 with 1 Axes>"
      ]
     },
     "metadata": {
      "needs_background": "light"
     },
     "output_type": "display_data"
    }
   ],
   "source": [
    "x = [0.1,0.2,0.3,0.4,0.5]\n",
    "y = []\n",
    "for param in x:\n",
    "    rf_model = RandomForestRegressor(\n",
    "        random_state=21,\n",
    "        criterion='mse',\n",
    "        max_depth=None,\n",
    "        min_samples_split = param,\n",
    "        min_samples_leaf = 1,\n",
    "        min_weight_fraction_leaf = 0.0,\n",
    "        max_features = 'auto',\n",
    "        max_leaf_nodes = None,\n",
    "        min_impurity_decrease = 0.0,\n",
    "        bootstrap = True,\n",
    "        oob_score = False,\n",
    "        n_jobs = None,\n",
    "        ccp_alpha = 0.0,\n",
    "        max_samples = None\n",
    "    )\n",
    "    rf_model.fit(X_train, y_train)\n",
    "    y_train_preds = rf_model.predict(X_train)\n",
    "    y_test_preds = rf_model.predict(X_valid)\n",
    "    y.append(r2(y_valid, y_test_preds))\n",
    "# def evaluate_preds(train_true_values, train_pred_values, test_true_values, test_pred_values):\n",
    "#     evaluate_preds(y_train, y_train_preds, y_valid, y_test_preds)\n",
    "plt.plot(x, y)\n",
    "\n",
    "plt.show()"
   ]
  },
  {
   "cell_type": "markdown",
   "metadata": {
    "papermill": {
     "duration": 0.092385,
     "end_time": "2021-05-25T16:02:13.531672",
     "exception": false,
     "start_time": "2021-05-25T16:02:13.439287",
     "status": "completed"
    },
    "tags": []
   },
   "source": [
    "**Обучение**"
   ]
  },
  {
   "cell_type": "code",
   "execution_count": 1168,
   "metadata": {
    "execution": {
     "iopub.execute_input": "2021-05-25T16:02:13.722932Z",
     "iopub.status.busy": "2021-05-25T16:02:13.722273Z",
     "iopub.status.idle": "2021-05-25T16:02:19.020121Z",
     "shell.execute_reply": "2021-05-25T16:02:19.019419Z",
     "shell.execute_reply.started": "2021-05-25T15:47:42.611893Z"
    },
    "papermill": {
     "duration": 5.395073,
     "end_time": "2021-05-25T16:02:19.020255",
     "exception": false,
     "start_time": "2021-05-25T16:02:13.625182",
     "status": "completed"
    },
    "tags": []
   },
   "outputs": [
    {
     "data": {
      "text/plain": [
       "GradientBoostingRegressor(criterion='mse', max_depth=4, min_samples_leaf=0.0001,\n",
       "                          n_estimators=200, random_state=42)"
      ]
     },
     "execution_count": 1168,
     "metadata": {},
     "output_type": "execute_result"
    }
   ],
   "source": [
    "# rf_model = RandomForestRegressor(\n",
    "#     random_state=21,\n",
    "#     criterion='mse',\n",
    "#     max_depth=None,\n",
    "#     min_samples_split = 2,\n",
    "#     min_samples_leaf = 1,\n",
    "#     min_weight_fraction_leaf = 0.0,\n",
    "#     max_features = 'auto',\n",
    "#     max_leaf_nodes = None,\n",
    "#     min_impurity_decrease = 0.0,\n",
    "#     bootstrap = True,\n",
    "#     oob_score = False,\n",
    "#     n_jobs = None,\n",
    "#     ccp_alpha = 0.0,\n",
    "#     max_samples = None\n",
    "# )\n",
    "rf_model = GradientBoostingRegressor(criterion='mse',\n",
    "                                        max_depth=4,\n",
    "                                        min_samples_leaf=0.0001,\n",
    "                                        random_state=42,\n",
    "                                        n_estimators=200)\n",
    "rf_model.fit(X_train, y_train)"
   ]
  },
  {
   "cell_type": "markdown",
   "metadata": {
    "papermill": {
     "duration": 0.091769,
     "end_time": "2021-05-25T16:02:19.204397",
     "exception": false,
     "start_time": "2021-05-25T16:02:19.112628",
     "status": "completed"
    },
    "tags": []
   },
   "source": [
    "**Оценка модели**"
   ]
  },
  {
   "cell_type": "code",
   "execution_count": 1169,
   "metadata": {
    "execution": {
     "iopub.execute_input": "2021-05-25T16:02:19.399017Z",
     "iopub.status.busy": "2021-05-25T16:02:19.397884Z",
     "iopub.status.idle": "2021-05-25T16:02:20.061418Z",
     "shell.execute_reply": "2021-05-25T16:02:20.060829Z",
     "shell.execute_reply.started": "2021-05-25T15:47:47.908022Z"
    },
    "papermill": {
     "duration": 0.764519,
     "end_time": "2021-05-25T16:02:20.061566",
     "exception": false,
     "start_time": "2021-05-25T16:02:19.297047",
     "status": "completed"
    },
    "tags": []
   },
   "outputs": [
    {
     "name": "stdout",
     "output_type": "stream",
     "text": [
      "Train R2:\t0.85767\n",
      "Test R2:\t0.68329\n"
     ]
    },
    {
     "data": {
      "image/png": "[encoded data removed]",
      "text/plain": [
       "<Figure size 1296x720 with 2 Axes>"
      ]
     },
     "metadata": {
      "needs_background": "light"
     },
     "output_type": "display_data"
    }
   ],
   "source": [
    "y_train_preds = rf_model.predict(X_train)\n",
    "y_test_preds = rf_model.predict(X_valid)\n",
    "\n",
    "evaluate_preds(y_train, y_train_preds, y_valid, y_test_preds)"
   ]
  },
  {
   "cell_type": "markdown",
   "metadata": {
    "papermill": {
     "duration": 0.096315,
     "end_time": "2021-05-25T16:02:20.256439",
     "exception": false,
     "start_time": "2021-05-25T16:02:20.160124",
     "status": "completed"
    },
    "tags": []
   },
   "source": [
    "**Кросс-валидация**"
   ]
  },
  {
   "cell_type": "code",
   "execution_count": 1170,
   "metadata": {
    "execution": {
     "iopub.execute_input": "2021-05-25T16:02:20.458283Z",
     "iopub.status.busy": "2021-05-25T16:02:20.457205Z",
     "iopub.status.idle": "2021-05-25T16:02:31.170126Z",
     "shell.execute_reply": "2021-05-25T16:02:31.170690Z",
     "shell.execute_reply.started": "2021-05-25T15:47:48.474840Z"
    },
    "papermill": {
     "duration": 10.817443,
     "end_time": "2021-05-25T16:02:31.170871",
     "exception": false,
     "start_time": "2021-05-25T16:02:20.353428",
     "status": "completed"
    },
    "tags": []
   },
   "outputs": [
    {
     "data": {
      "text/plain": [
       "array([0.67737476, 0.71155636, 0.66646242])"
      ]
     },
     "execution_count": 1170,
     "metadata": {},
     "output_type": "execute_result"
    }
   ],
   "source": [
    "cv_score = cross_val_score(rf_model, X_train, y_train, scoring='r2', cv=KFold(n_splits=3, shuffle=True, random_state=21))\n",
    "cv_score"
   ]
  },
  {
   "cell_type": "code",
   "execution_count": 1171,
   "metadata": {
    "execution": {
     "iopub.execute_input": "2021-05-25T16:02:31.371567Z",
     "iopub.status.busy": "2021-05-25T16:02:31.370605Z",
     "iopub.status.idle": "2021-05-25T16:02:31.374677Z",
     "shell.execute_reply": "2021-05-25T16:02:31.374179Z",
     "shell.execute_reply.started": "2021-05-25T15:47:59.127921Z"
    },
    "papermill": {
     "duration": 0.106933,
     "end_time": "2021-05-25T16:02:31.374795",
     "exception": false,
     "start_time": "2021-05-25T16:02:31.267862",
     "status": "completed"
    },
    "tags": []
   },
   "outputs": [
    {
     "data": {
      "text/plain": [
       "0.6851311795051367"
      ]
     },
     "execution_count": 1171,
     "metadata": {},
     "output_type": "execute_result"
    }
   ],
   "source": [
    "cv_score.mean()"
   ]
  },
  {
   "cell_type": "markdown",
   "metadata": {
    "papermill": {
     "duration": 0.096603,
     "end_time": "2021-05-25T16:02:31.568833",
     "exception": false,
     "start_time": "2021-05-25T16:02:31.472230",
     "status": "completed"
    },
    "tags": []
   },
   "source": [
    "**Важность признаков**"
   ]
  },
  {
   "cell_type": "code",
   "execution_count": 1172,
   "metadata": {
    "execution": {
     "iopub.execute_input": "2021-05-25T16:02:31.769290Z",
     "iopub.status.busy": "2021-05-25T16:02:31.768627Z",
     "iopub.status.idle": "2021-05-25T16:02:31.810861Z",
     "shell.execute_reply": "2021-05-25T16:02:31.812082Z",
     "shell.execute_reply.started": "2021-05-25T15:47:59.138342Z"
    },
    "papermill": {
     "duration": 0.145976,
     "end_time": "2021-05-25T16:02:31.812264",
     "exception": false,
     "start_time": "2021-05-25T16:02:31.666288",
     "status": "completed"
    },
    "scrolled": true,
    "tags": []
   },
   "outputs": [
    {
     "data": {
      "text/html": [
       "<div>\n",
       "<style scoped>\n",
       "    .dataframe tbody tr th:only-of-type {\n",
       "        vertical-align: middle;\n",
       "    }\n",
       "\n",
       "    .dataframe tbody tr th {\n",
       "        vertical-align: top;\n",
       "    }\n",
       "\n",
       "    .dataframe thead th {\n",
       "        text-align: right;\n",
       "    }\n",
       "</style>\n",
       "<table border=\"1\" class=\"dataframe\">\n",
       "  <thead>\n",
       "    <tr style=\"text-align: right;\">\n",
       "      <th></th>\n",
       "      <th>feature_name</th>\n",
       "      <th>importance</th>\n",
       "    </tr>\n",
       "  </thead>\n",
       "  <tbody>\n",
       "    <tr>\n",
       "      <th>2</th>\n",
       "      <td>Square</td>\n",
       "      <td>0.325899</td>\n",
       "    </tr>\n",
       "    <tr>\n",
       "      <th>11</th>\n",
       "      <td>Social_1</td>\n",
       "      <td>0.168006</td>\n",
       "    </tr>\n",
       "    <tr>\n",
       "      <th>13</th>\n",
       "      <td>Social_3</td>\n",
       "      <td>0.092377</td>\n",
       "    </tr>\n",
       "    <tr>\n",
       "      <th>0</th>\n",
       "      <td>DistrictId</td>\n",
       "      <td>0.073421</td>\n",
       "    </tr>\n",
       "    <tr>\n",
       "      <th>12</th>\n",
       "      <td>Social_2</td>\n",
       "      <td>0.053474</td>\n",
       "    </tr>\n",
       "    <tr>\n",
       "      <th>7</th>\n",
       "      <td>HouseYear</td>\n",
       "      <td>0.053463</td>\n",
       "    </tr>\n",
       "    <tr>\n",
       "      <th>8</th>\n",
       "      <td>Ecology_1</td>\n",
       "      <td>0.046903</td>\n",
       "    </tr>\n",
       "    <tr>\n",
       "      <th>3</th>\n",
       "      <td>LifeSquare</td>\n",
       "      <td>0.045489</td>\n",
       "    </tr>\n",
       "    <tr>\n",
       "      <th>14</th>\n",
       "      <td>Healthcare_1</td>\n",
       "      <td>0.039959</td>\n",
       "    </tr>\n",
       "    <tr>\n",
       "      <th>1</th>\n",
       "      <td>Rooms</td>\n",
       "      <td>0.028438</td>\n",
       "    </tr>\n",
       "    <tr>\n",
       "      <th>4</th>\n",
       "      <td>KitchenSquare</td>\n",
       "      <td>0.025493</td>\n",
       "    </tr>\n",
       "    <tr>\n",
       "      <th>6</th>\n",
       "      <td>HouseFloor</td>\n",
       "      <td>0.018023</td>\n",
       "    </tr>\n",
       "    <tr>\n",
       "      <th>16</th>\n",
       "      <td>Shops_1</td>\n",
       "      <td>0.012340</td>\n",
       "    </tr>\n",
       "    <tr>\n",
       "      <th>5</th>\n",
       "      <td>Floor</td>\n",
       "      <td>0.011766</td>\n",
       "    </tr>\n",
       "    <tr>\n",
       "      <th>15</th>\n",
       "      <td>Helthcare_2</td>\n",
       "      <td>0.003291</td>\n",
       "    </tr>\n",
       "    <tr>\n",
       "      <th>9</th>\n",
       "      <td>Ecology_2</td>\n",
       "      <td>0.000780</td>\n",
       "    </tr>\n",
       "    <tr>\n",
       "      <th>17</th>\n",
       "      <td>Shops_2</td>\n",
       "      <td>0.000668</td>\n",
       "    </tr>\n",
       "    <tr>\n",
       "      <th>10</th>\n",
       "      <td>Ecology_3</td>\n",
       "      <td>0.000209</td>\n",
       "    </tr>\n",
       "  </tbody>\n",
       "</table>\n",
       "</div>"
      ],
      "text/plain": [
       "     feature_name  importance\n",
       "2          Square    0.325899\n",
       "11       Social_1    0.168006\n",
       "13       Social_3    0.092377\n",
       "0      DistrictId    0.073421\n",
       "12       Social_2    0.053474\n",
       "7       HouseYear    0.053463\n",
       "8       Ecology_1    0.046903\n",
       "3      LifeSquare    0.045489\n",
       "14   Healthcare_1    0.039959\n",
       "1           Rooms    0.028438\n",
       "4   KitchenSquare    0.025493\n",
       "6      HouseFloor    0.018023\n",
       "16        Shops_1    0.012340\n",
       "5           Floor    0.011766\n",
       "15    Helthcare_2    0.003291\n",
       "9       Ecology_2    0.000780\n",
       "17        Shops_2    0.000668\n",
       "10      Ecology_3    0.000209"
      ]
     },
     "execution_count": 1172,
     "metadata": {},
     "output_type": "execute_result"
    }
   ],
   "source": [
    "feature_importances = pd.DataFrame(zip(X_train.columns, rf_model.feature_importances_), \n",
    "                                   columns=['feature_name', 'importance'])\n",
    "\n",
    "feature_importances.sort_values(by='importance', ascending=False)"
   ]
  },
  {
   "cell_type": "markdown",
   "metadata": {},
   "source": [
    "### 8. Прогнозирование на тестовом датасете  <a class='anchor' id='prediction'>\n",
    "\n",
    "1. Выполнить для тестового датасета те же этапы обработки и постронияния признаков\n",
    "2. Не потерять и не перемешать индексы от примеров при построении прогнозов\n",
    "3. Прогнозы должны быть для все примеров из тестового датасета (для всех строк)"
   ]
  },
  {
   "cell_type": "code",
   "execution_count": 1173,
   "metadata": {
    "execution": {
     "iopub.execute_input": "2021-05-25T16:03:00.709399Z",
     "iopub.status.busy": "2021-05-25T16:03:00.708533Z",
     "iopub.status.idle": "2021-05-25T16:03:00.712058Z",
     "shell.execute_reply": "2021-05-25T16:03:00.712559Z",
     "shell.execute_reply.started": "2021-05-25T15:48:26.734827Z"
    },
    "papermill": {
     "duration": 0.111648,
     "end_time": "2021-05-25T16:03:00.712704",
     "exception": false,
     "start_time": "2021-05-25T16:03:00.601056",
     "status": "completed"
    },
    "tags": []
   },
   "outputs": [
    {
     "data": {
      "text/plain": [
       "(5000, 18)"
      ]
     },
     "execution_count": 1173,
     "metadata": {},
     "output_type": "execute_result"
    }
   ],
   "source": [
    "test_df.shape"
   ]
  },
  {
   "cell_type": "code",
   "execution_count": 1174,
   "metadata": {
    "execution": {
     "iopub.execute_input": "2021-05-25T16:03:00.923883Z",
     "iopub.status.busy": "2021-05-25T16:03:00.922865Z",
     "iopub.status.idle": "2021-05-25T16:03:00.963241Z",
     "shell.execute_reply": "2021-05-25T16:03:00.963724Z",
     "shell.execute_reply.started": "2021-05-25T15:48:26.742711Z"
    },
    "papermill": {
     "duration": 0.148449,
     "end_time": "2021-05-25T16:03:00.963906",
     "exception": false,
     "start_time": "2021-05-25T16:03:00.815457",
     "status": "completed"
    },
    "tags": []
   },
   "outputs": [
    {
     "data": {
      "text/html": [
       "<div>\n",
       "<style scoped>\n",
       "    .dataframe tbody tr th:only-of-type {\n",
       "        vertical-align: middle;\n",
       "    }\n",
       "\n",
       "    .dataframe tbody tr th {\n",
       "        vertical-align: top;\n",
       "    }\n",
       "\n",
       "    .dataframe thead th {\n",
       "        text-align: right;\n",
       "    }\n",
       "</style>\n",
       "<table border=\"1\" class=\"dataframe\">\n",
       "  <thead>\n",
       "    <tr style=\"text-align: right;\">\n",
       "      <th></th>\n",
       "      <th>DistrictId</th>\n",
       "      <th>Rooms</th>\n",
       "      <th>Square</th>\n",
       "      <th>LifeSquare</th>\n",
       "      <th>KitchenSquare</th>\n",
       "      <th>Floor</th>\n",
       "      <th>HouseFloor</th>\n",
       "      <th>HouseYear</th>\n",
       "      <th>Ecology_1</th>\n",
       "      <th>Ecology_2</th>\n",
       "      <th>Ecology_3</th>\n",
       "      <th>Social_1</th>\n",
       "      <th>Social_2</th>\n",
       "      <th>Social_3</th>\n",
       "      <th>Healthcare_1</th>\n",
       "      <th>Helthcare_2</th>\n",
       "      <th>Shops_1</th>\n",
       "      <th>Shops_2</th>\n",
       "    </tr>\n",
       "  </thead>\n",
       "  <tbody>\n",
       "    <tr>\n",
       "      <th>0</th>\n",
       "      <td>44</td>\n",
       "      <td>1.0</td>\n",
       "      <td>36.847630</td>\n",
       "      <td>19.094182</td>\n",
       "      <td>6.0</td>\n",
       "      <td>5</td>\n",
       "      <td>9.0</td>\n",
       "      <td>1970</td>\n",
       "      <td>0.036122</td>\n",
       "      <td>1.0</td>\n",
       "      <td>1.0</td>\n",
       "      <td>24</td>\n",
       "      <td>4378</td>\n",
       "      <td>0</td>\n",
       "      <td>1036.000000</td>\n",
       "      <td>1</td>\n",
       "      <td>1</td>\n",
       "      <td>1.0</td>\n",
       "    </tr>\n",
       "    <tr>\n",
       "      <th>1</th>\n",
       "      <td>62</td>\n",
       "      <td>1.0</td>\n",
       "      <td>42.493907</td>\n",
       "      <td>42.568133</td>\n",
       "      <td>10.0</td>\n",
       "      <td>7</td>\n",
       "      <td>17.0</td>\n",
       "      <td>2017</td>\n",
       "      <td>0.072158</td>\n",
       "      <td>1.0</td>\n",
       "      <td>1.0</td>\n",
       "      <td>2</td>\n",
       "      <td>629</td>\n",
       "      <td>1</td>\n",
       "      <td>1146.657263</td>\n",
       "      <td>0</td>\n",
       "      <td>0</td>\n",
       "      <td>1.0</td>\n",
       "    </tr>\n",
       "    <tr>\n",
       "      <th>2</th>\n",
       "      <td>27</td>\n",
       "      <td>2.0</td>\n",
       "      <td>59.463678</td>\n",
       "      <td>36.158810</td>\n",
       "      <td>9.0</td>\n",
       "      <td>19</td>\n",
       "      <td>19.0</td>\n",
       "      <td>1977</td>\n",
       "      <td>0.211401</td>\n",
       "      <td>1.0</td>\n",
       "      <td>1.0</td>\n",
       "      <td>9</td>\n",
       "      <td>1892</td>\n",
       "      <td>0</td>\n",
       "      <td>1146.657263</td>\n",
       "      <td>0</td>\n",
       "      <td>1</td>\n",
       "      <td>1.0</td>\n",
       "    </tr>\n",
       "    <tr>\n",
       "      <th>3</th>\n",
       "      <td>23</td>\n",
       "      <td>3.0</td>\n",
       "      <td>49.646030</td>\n",
       "      <td>33.893825</td>\n",
       "      <td>6.0</td>\n",
       "      <td>2</td>\n",
       "      <td>2.0</td>\n",
       "      <td>1965</td>\n",
       "      <td>0.014073</td>\n",
       "      <td>1.0</td>\n",
       "      <td>1.0</td>\n",
       "      <td>2</td>\n",
       "      <td>475</td>\n",
       "      <td>0</td>\n",
       "      <td>1146.657263</td>\n",
       "      <td>0</td>\n",
       "      <td>0</td>\n",
       "      <td>1.0</td>\n",
       "    </tr>\n",
       "    <tr>\n",
       "      <th>4</th>\n",
       "      <td>74</td>\n",
       "      <td>1.0</td>\n",
       "      <td>53.837056</td>\n",
       "      <td>36.158810</td>\n",
       "      <td>6.0</td>\n",
       "      <td>8</td>\n",
       "      <td>17.0</td>\n",
       "      <td>1977</td>\n",
       "      <td>0.309479</td>\n",
       "      <td>1.0</td>\n",
       "      <td>1.0</td>\n",
       "      <td>35</td>\n",
       "      <td>7715</td>\n",
       "      <td>4</td>\n",
       "      <td>990.000000</td>\n",
       "      <td>0</td>\n",
       "      <td>6</td>\n",
       "      <td>1.0</td>\n",
       "    </tr>\n",
       "    <tr>\n",
       "      <th>...</th>\n",
       "      <td>...</td>\n",
       "      <td>...</td>\n",
       "      <td>...</td>\n",
       "      <td>...</td>\n",
       "      <td>...</td>\n",
       "      <td>...</td>\n",
       "      <td>...</td>\n",
       "      <td>...</td>\n",
       "      <td>...</td>\n",
       "      <td>...</td>\n",
       "      <td>...</td>\n",
       "      <td>...</td>\n",
       "      <td>...</td>\n",
       "      <td>...</td>\n",
       "      <td>...</td>\n",
       "      <td>...</td>\n",
       "      <td>...</td>\n",
       "      <td>...</td>\n",
       "    </tr>\n",
       "    <tr>\n",
       "      <th>4995</th>\n",
       "      <td>29</td>\n",
       "      <td>2.0</td>\n",
       "      <td>43.177521</td>\n",
       "      <td>30.339945</td>\n",
       "      <td>6.0</td>\n",
       "      <td>4</td>\n",
       "      <td>5.0</td>\n",
       "      <td>1962</td>\n",
       "      <td>0.069660</td>\n",
       "      <td>1.0</td>\n",
       "      <td>1.0</td>\n",
       "      <td>31</td>\n",
       "      <td>6119</td>\n",
       "      <td>4</td>\n",
       "      <td>1146.657263</td>\n",
       "      <td>1</td>\n",
       "      <td>2</td>\n",
       "      <td>1.0</td>\n",
       "    </tr>\n",
       "    <tr>\n",
       "      <th>4996</th>\n",
       "      <td>38</td>\n",
       "      <td>3.0</td>\n",
       "      <td>93.698122</td>\n",
       "      <td>94.521465</td>\n",
       "      <td>10.0</td>\n",
       "      <td>21</td>\n",
       "      <td>27.0</td>\n",
       "      <td>2018</td>\n",
       "      <td>0.060753</td>\n",
       "      <td>1.0</td>\n",
       "      <td>1.0</td>\n",
       "      <td>15</td>\n",
       "      <td>2787</td>\n",
       "      <td>2</td>\n",
       "      <td>520.000000</td>\n",
       "      <td>0</td>\n",
       "      <td>7</td>\n",
       "      <td>1.0</td>\n",
       "    </tr>\n",
       "    <tr>\n",
       "      <th>4997</th>\n",
       "      <td>101</td>\n",
       "      <td>1.0</td>\n",
       "      <td>33.656723</td>\n",
       "      <td>19.003259</td>\n",
       "      <td>6.0</td>\n",
       "      <td>2</td>\n",
       "      <td>5.0</td>\n",
       "      <td>1966</td>\n",
       "      <td>0.038693</td>\n",
       "      <td>1.0</td>\n",
       "      <td>1.0</td>\n",
       "      <td>28</td>\n",
       "      <td>6533</td>\n",
       "      <td>1</td>\n",
       "      <td>1015.000000</td>\n",
       "      <td>2</td>\n",
       "      <td>5</td>\n",
       "      <td>1.0</td>\n",
       "    </tr>\n",
       "    <tr>\n",
       "      <th>4998</th>\n",
       "      <td>10</td>\n",
       "      <td>1.0</td>\n",
       "      <td>38.635155</td>\n",
       "      <td>20.976257</td>\n",
       "      <td>9.0</td>\n",
       "      <td>8</td>\n",
       "      <td>14.0</td>\n",
       "      <td>1970</td>\n",
       "      <td>0.089040</td>\n",
       "      <td>1.0</td>\n",
       "      <td>1.0</td>\n",
       "      <td>33</td>\n",
       "      <td>7976</td>\n",
       "      <td>5</td>\n",
       "      <td>1146.657263</td>\n",
       "      <td>0</td>\n",
       "      <td>11</td>\n",
       "      <td>1.0</td>\n",
       "    </tr>\n",
       "    <tr>\n",
       "      <th>4999</th>\n",
       "      <td>21</td>\n",
       "      <td>2.0</td>\n",
       "      <td>67.122742</td>\n",
       "      <td>33.944344</td>\n",
       "      <td>13.0</td>\n",
       "      <td>9</td>\n",
       "      <td>17.0</td>\n",
       "      <td>2009</td>\n",
       "      <td>0.194489</td>\n",
       "      <td>1.0</td>\n",
       "      <td>1.0</td>\n",
       "      <td>47</td>\n",
       "      <td>8004</td>\n",
       "      <td>3</td>\n",
       "      <td>125.000000</td>\n",
       "      <td>3</td>\n",
       "      <td>5</td>\n",
       "      <td>1.0</td>\n",
       "    </tr>\n",
       "  </tbody>\n",
       "</table>\n",
       "<p>5000 rows × 18 columns</p>\n",
       "</div>"
      ],
      "text/plain": [
       "      DistrictId  Rooms     Square  LifeSquare  KitchenSquare  Floor  \\\n",
       "0             44    1.0  36.847630   19.094182            6.0      5   \n",
       "1             62    1.0  42.493907   42.568133           10.0      7   \n",
       "2             27    2.0  59.463678   36.158810            9.0     19   \n",
       "3             23    3.0  49.646030   33.893825            6.0      2   \n",
       "4             74    1.0  53.837056   36.158810            6.0      8   \n",
       "...          ...    ...        ...         ...            ...    ...   \n",
       "4995          29    2.0  43.177521   30.339945            6.0      4   \n",
       "4996          38    3.0  93.698122   94.521465           10.0     21   \n",
       "4997         101    1.0  33.656723   19.003259            6.0      2   \n",
       "4998          10    1.0  38.635155   20.976257            9.0      8   \n",
       "4999          21    2.0  67.122742   33.944344           13.0      9   \n",
       "\n",
       "      HouseFloor  HouseYear  Ecology_1  Ecology_2  Ecology_3  Social_1  \\\n",
       "0            9.0       1970   0.036122        1.0        1.0        24   \n",
       "1           17.0       2017   0.072158        1.0        1.0         2   \n",
       "2           19.0       1977   0.211401        1.0        1.0         9   \n",
       "3            2.0       1965   0.014073        1.0        1.0         2   \n",
       "4           17.0       1977   0.309479        1.0        1.0        35   \n",
       "...          ...        ...        ...        ...        ...       ...   \n",
       "4995         5.0       1962   0.069660        1.0        1.0        31   \n",
       "4996        27.0       2018   0.060753        1.0        1.0        15   \n",
       "4997         5.0       1966   0.038693        1.0        1.0        28   \n",
       "4998        14.0       1970   0.089040        1.0        1.0        33   \n",
       "4999        17.0       2009   0.194489        1.0        1.0        47   \n",
       "\n",
       "      Social_2  Social_3  Healthcare_1  Helthcare_2  Shops_1  Shops_2  \n",
       "0         4378         0   1036.000000            1        1      1.0  \n",
       "1          629         1   1146.657263            0        0      1.0  \n",
       "2         1892         0   1146.657263            0        1      1.0  \n",
       "3          475         0   1146.657263            0        0      1.0  \n",
       "4         7715         4    990.000000            0        6      1.0  \n",
       "...        ...       ...           ...          ...      ...      ...  \n",
       "4995      6119         4   1146.657263            1        2      1.0  \n",
       "4996      2787         2    520.000000            0        7      1.0  \n",
       "4997      6533         1   1015.000000            2        5      1.0  \n",
       "4998      7976         5   1146.657263            0       11      1.0  \n",
       "4999      8004         3    125.000000            3        5      1.0  \n",
       "\n",
       "[5000 rows x 18 columns]"
      ]
     },
     "execution_count": 1174,
     "metadata": {},
     "output_type": "execute_result"
    }
   ],
   "source": [
    "test_df"
   ]
  },
  {
   "cell_type": "code",
   "execution_count": 1175,
   "metadata": {
    "execution": {
     "iopub.execute_input": "2021-05-25T16:03:01.179749Z",
     "iopub.status.busy": "2021-05-25T16:03:01.179077Z",
     "iopub.status.idle": "2021-05-25T16:03:01.197855Z",
     "shell.execute_reply": "2021-05-25T16:03:01.198388Z",
     "shell.execute_reply.started": "2021-05-25T15:48:26.788401Z"
    },
    "papermill": {
     "duration": 0.131372,
     "end_time": "2021-05-25T16:03:01.198547",
     "exception": false,
     "start_time": "2021-05-25T16:03:01.067175",
     "status": "completed"
    },
    "tags": []
   },
   "outputs": [
    {
     "data": {
      "text/html": [
       "<div>\n",
       "<style scoped>\n",
       "    .dataframe tbody tr th:only-of-type {\n",
       "        vertical-align: middle;\n",
       "    }\n",
       "\n",
       "    .dataframe tbody tr th {\n",
       "        vertical-align: top;\n",
       "    }\n",
       "\n",
       "    .dataframe thead th {\n",
       "        text-align: right;\n",
       "    }\n",
       "</style>\n",
       "<table border=\"1\" class=\"dataframe\">\n",
       "  <thead>\n",
       "    <tr style=\"text-align: right;\">\n",
       "      <th></th>\n",
       "      <th>Id</th>\n",
       "      <th>Price</th>\n",
       "    </tr>\n",
       "  </thead>\n",
       "  <tbody>\n",
       "    <tr>\n",
       "      <th>0</th>\n",
       "      <td>4567</td>\n",
       "      <td>200000.0</td>\n",
       "    </tr>\n",
       "    <tr>\n",
       "      <th>1</th>\n",
       "      <td>5925</td>\n",
       "      <td>200000.0</td>\n",
       "    </tr>\n",
       "    <tr>\n",
       "      <th>2</th>\n",
       "      <td>960</td>\n",
       "      <td>200000.0</td>\n",
       "    </tr>\n",
       "    <tr>\n",
       "      <th>3</th>\n",
       "      <td>3848</td>\n",
       "      <td>200000.0</td>\n",
       "    </tr>\n",
       "    <tr>\n",
       "      <th>4</th>\n",
       "      <td>746</td>\n",
       "      <td>200000.0</td>\n",
       "    </tr>\n",
       "  </tbody>\n",
       "</table>\n",
       "</div>"
      ],
      "text/plain": [
       "     Id     Price\n",
       "0  4567  200000.0\n",
       "1  5925  200000.0\n",
       "2   960  200000.0\n",
       "3  3848  200000.0\n",
       "4   746  200000.0"
      ]
     },
     "execution_count": 1175,
     "metadata": {},
     "output_type": "execute_result"
    }
   ],
   "source": [
    "submit = pd.read_csv('./input/real-estate-price-prediction-moscow/sample_submission.csv')\n",
    "submit.head()"
   ]
  },
  {
   "cell_type": "code",
   "execution_count": 1176,
   "metadata": {
    "execution": {
     "iopub.execute_input": "2021-05-25T16:03:01.411304Z",
     "iopub.status.busy": "2021-05-25T16:03:01.410326Z",
     "iopub.status.idle": "2021-05-25T16:03:01.554625Z",
     "shell.execute_reply": "2021-05-25T16:03:01.555089Z",
     "shell.execute_reply.started": "2021-05-25T15:48:26.807749Z"
    },
    "papermill": {
     "duration": 0.252692,
     "end_time": "2021-05-25T16:03:01.555250",
     "exception": false,
     "start_time": "2021-05-25T16:03:01.302558",
     "status": "completed"
    },
    "tags": []
   },
   "outputs": [
    {
     "data": {
      "text/plain": [
       "array([158724.74366879, 117245.29537568, 165901.74296112, ...,\n",
       "       143960.84165295, 200175.79966588, 279804.46994319])"
      ]
     },
     "execution_count": 1176,
     "metadata": {},
     "output_type": "execute_result"
    }
   ],
   "source": [
    "predictions = rf_model.predict(test_df)\n",
    "predictions"
   ]
  },
  {
   "cell_type": "code",
   "execution_count": 1177,
   "metadata": {
    "execution": {
     "iopub.execute_input": "2021-05-25T16:03:01.769133Z",
     "iopub.status.busy": "2021-05-25T16:03:01.768118Z",
     "iopub.status.idle": "2021-05-25T16:03:01.779291Z",
     "shell.execute_reply": "2021-05-25T16:03:01.779798Z",
     "shell.execute_reply.started": "2021-05-25T15:48:26.941184Z"
    },
    "papermill": {
     "duration": 0.120267,
     "end_time": "2021-05-25T16:03:01.779971",
     "exception": false,
     "start_time": "2021-05-25T16:03:01.659704",
     "status": "completed"
    },
    "tags": []
   },
   "outputs": [
    {
     "data": {
      "text/html": [
       "<div>\n",
       "<style scoped>\n",
       "    .dataframe tbody tr th:only-of-type {\n",
       "        vertical-align: middle;\n",
       "    }\n",
       "\n",
       "    .dataframe tbody tr th {\n",
       "        vertical-align: top;\n",
       "    }\n",
       "\n",
       "    .dataframe thead th {\n",
       "        text-align: right;\n",
       "    }\n",
       "</style>\n",
       "<table border=\"1\" class=\"dataframe\">\n",
       "  <thead>\n",
       "    <tr style=\"text-align: right;\">\n",
       "      <th></th>\n",
       "      <th>Id</th>\n",
       "      <th>Price</th>\n",
       "    </tr>\n",
       "  </thead>\n",
       "  <tbody>\n",
       "    <tr>\n",
       "      <th>0</th>\n",
       "      <td>4567</td>\n",
       "      <td>158724.743669</td>\n",
       "    </tr>\n",
       "    <tr>\n",
       "      <th>1</th>\n",
       "      <td>5925</td>\n",
       "      <td>117245.295376</td>\n",
       "    </tr>\n",
       "    <tr>\n",
       "      <th>2</th>\n",
       "      <td>960</td>\n",
       "      <td>165901.742961</td>\n",
       "    </tr>\n",
       "    <tr>\n",
       "      <th>3</th>\n",
       "      <td>3848</td>\n",
       "      <td>106066.440789</td>\n",
       "    </tr>\n",
       "    <tr>\n",
       "      <th>4</th>\n",
       "      <td>746</td>\n",
       "      <td>224162.096513</td>\n",
       "    </tr>\n",
       "  </tbody>\n",
       "</table>\n",
       "</div>"
      ],
      "text/plain": [
       "     Id          Price\n",
       "0  4567  158724.743669\n",
       "1  5925  117245.295376\n",
       "2   960  165901.742961\n",
       "3  3848  106066.440789\n",
       "4   746  224162.096513"
      ]
     },
     "execution_count": 1177,
     "metadata": {},
     "output_type": "execute_result"
    }
   ],
   "source": [
    "submit['Price'] = predictions\n",
    "submit.head()"
   ]
  },
  {
   "cell_type": "code",
   "execution_count": 1178,
   "metadata": {
    "execution": {
     "iopub.execute_input": "2021-05-25T16:03:01.996142Z",
     "iopub.status.busy": "2021-05-25T16:03:01.995453Z",
     "iopub.status.idle": "2021-05-25T16:03:02.296578Z",
     "shell.execute_reply": "2021-05-25T16:03:02.295775Z",
     "shell.execute_reply.started": "2021-05-25T15:48:26.953122Z"
    },
    "papermill": {
     "duration": 0.408639,
     "end_time": "2021-05-25T16:03:02.296745",
     "exception": false,
     "start_time": "2021-05-25T16:03:01.888106",
     "status": "completed"
    },
    "tags": []
   },
   "outputs": [],
   "source": [
    "submit.to_csv('rf_submit.csv', index=False)"
   ]
  }
 ],
 "metadata": {
  "kernelspec": {
   "display_name": "Python 3",
   "language": "python",
   "name": "python3"
  },
  "language_info": {
   "codemirror_mode": {
    "name": "ipython",
    "version": 3
   },
   "file_extension": ".py",
   "mimetype": "text/x-python",
   "name": "python",
   "nbconvert_exporter": "python",
   "pygments_lexer": "ipython3",
   "version": "3.8.8"
  },
  "papermill": {
   "duration": 72.847547,
   "end_time": "2021-05-25T16:03:02.509533",
   "environment_variables": {},
   "exception": null,
   "input_path": "__notebook__.ipynb",
   "output_path": "__notebook__.ipynb",
   "parameters": {},
   "start_time": "2021-05-25T16:01:49.661986",
   "version": "2.1.0"
  }
 },
 "nbformat": 4,
 "nbformat_minor": 4
}
