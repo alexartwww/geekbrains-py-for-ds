{
 "cells": [
  {
   "cell_type": "markdown",
   "id": "4a525223",
   "metadata": {},
   "source": [
    "Тема “Обучение без учителя”\n",
    "=="
   ]
  },
  {
   "cell_type": "markdown",
   "id": "f49db2a5",
   "metadata": {},
   "source": [
    "Задание 1\n",
    "==\n",
    "Импортируйте библиотеки pandas, numpy и matplotlib."
   ]
  },
  {
   "cell_type": "code",
   "execution_count": 2,
   "id": "0c31e526",
   "metadata": {},
   "outputs": [],
   "source": [
    "import pandas as pd\n",
    "import numpy as np\n",
    "import matplotlib.pyplot as plt\n",
    "%matplotlib inline"
   ]
  },
  {
   "cell_type": "markdown",
   "id": "af58ce8b",
   "metadata": {},
   "source": [
    "Загрузите \"Boston House Prices dataset\" из встроенных наборов данных библиотеки sklearn."
   ]
  },
  {
   "cell_type": "markdown",
   "id": "6491ee86",
   "metadata": {},
   "source": [
    "Создайте датафреймы X и y из этих данных."
   ]
  },
  {
   "cell_type": "markdown",
   "id": "827459bd",
   "metadata": {},
   "source": [
    "Разбейте эти датафреймы на тренировочные (X_train, y_train) и тестовые (X_test, y_test) с помощью функции train_test_split так, чтобы размер тестовой выборки составлял 20% от всех данных, при этом аргумент random_state должен быть равен 42."
   ]
  },
  {
   "cell_type": "markdown",
   "id": "87f5454c",
   "metadata": {},
   "source": [
    "Масштабируйте данные с помощью StandardScaler."
   ]
  },
  {
   "cell_type": "markdown",
   "id": "413b664b",
   "metadata": {},
   "source": [
    "Постройте модель TSNE на тренировочный данных с параметрами:\n",
    "n_components=2, learning_rate=250, random_state=42."
   ]
  },
  {
   "cell_type": "markdown",
   "id": "8e6b791a",
   "metadata": {},
   "source": [
    "Постройте диаграмму рассеяния на этих данных."
   ]
  },
  {
   "cell_type": "markdown",
   "id": "25e620c6",
   "metadata": {},
   "source": [
    "Задание 2\n",
    "==\n",
    "С помощью KMeans разбейте данные из тренировочного набора на 3 кластера, используйте все признаки из датафрейма X_train."
   ]
  },
  {
   "cell_type": "markdown",
   "id": "c5a757ba",
   "metadata": {},
   "source": [
    "Параметр max_iter должен быть равен 100, random_state сделайте равным 42."
   ]
  },
  {
   "cell_type": "markdown",
   "id": "7e292e09",
   "metadata": {},
   "source": [
    "Постройте еще раз диаграмму рассеяния на данных, полученных с помощью TSNE, и раскрасьте точки из разных кластеров разными цветами."
   ]
  },
  {
   "cell_type": "markdown",
   "id": "d4c189b6",
   "metadata": {},
   "source": [
    "Вычислите средние значения price и CRIM в разных кластерах."
   ]
  },
  {
   "cell_type": "markdown",
   "id": "6d98f1a0",
   "metadata": {},
   "source": [
    "Задание 3*\n",
    "==\n",
    "Примените модель KMeans, построенную в предыдущем задании, к данным из тестового набора."
   ]
  },
  {
   "cell_type": "markdown",
   "id": "abb978f4",
   "metadata": {},
   "source": [
    "Вычислите средние значения price и CRIM в разных кластерах на тестовых данных."
   ]
  }
 ],
 "metadata": {
  "kernelspec": {
   "display_name": "Python 3",
   "language": "python",
   "name": "python3"
  },
  "language_info": {
   "codemirror_mode": {
    "name": "ipython",
    "version": 3
   },
   "file_extension": ".py",
   "mimetype": "text/x-python",
   "name": "python",
   "nbconvert_exporter": "python",
   "pygments_lexer": "ipython3",
   "version": "3.8.8"
  }
 },
 "nbformat": 4,
 "nbformat_minor": 5
}
